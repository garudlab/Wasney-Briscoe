{
 "cells": [
  {
   "cell_type": "code",
   "execution_count": 1,
   "metadata": {},
   "outputs": [],
   "source": [
    "import sys\n",
    "sys.path.insert(0, \"/u/home/m/michaelw/project-ngarud/Diversity-Along-Gut/HumanizedMouse/scripts/\")\n",
    "import config\n",
    "\n",
    "sys.path.insert(0, \"/u/home/m/michaelw/project-ngarud/Diversity-Along-Gut/HumanizedMouse/scripts/helper_functions/\")\n",
    "from annotation import *\n",
    "\n",
    "import os\n",
    "\n",
    "import numpy as np\n",
    "import pandas as pd\n",
    "\n",
    "import scipy as sc\n",
    "\n",
    "#PLOTTING\n",
    "import matplotlib.pyplot as plt\n",
    "import matplotlib\n",
    "matplotlib.rc('text', usetex=True)\n",
    "plt.rc('text', usetex=True)\n",
    "plt.rc('text.latex', preamble=r'\\usepackage{amsmath}') \n",
    "import seaborn as sns\n",
    "sns.set_style(\"whitegrid\")\n",
    "\n",
    "from matplotlib.lines import Line2D\n"
   ]
  },
  {
   "cell_type": "markdown",
   "metadata": {},
   "source": [
    "# Directories"
   ]
  },
  {
   "cell_type": "code",
   "execution_count": 12,
   "metadata": {},
   "outputs": [],
   "source": [
    "cov = 10\n",
    "\n",
    "single_sample_pi_dir = \"%sSinglePi_MinCoverage%s/\" % (config.data_directory, str(cov))\n",
    "paired_pi_dir = \"%spopgen_stats/PairedPi_SchloissnigPi.csv\" % (config.data_directory)\n",
    "\n",
    "good_species_path = \"%smetadata/good_cvg_species_list.txt\" % (config.data_directory)\n",
    "\n",
    "single_sample_pi_output = \"%spopgen_stats/SinglePi_SchloissnigPi_cov%s.csv\" % (config.data_directory, str(cov))\n",
    "paired_sample_pi_output = \"%spopgen_stats/PairedPi_SchloissnigPi.csv\" % (config.data_directory)"
   ]
  },
  {
   "cell_type": "code",
   "execution_count": 3,
   "metadata": {},
   "outputs": [],
   "source": [
    "good_species = list(pd.read_csv(good_species_path, names = ['species']).species)"
   ]
  },
  {
   "cell_type": "code",
   "execution_count": 5,
   "metadata": {},
   "outputs": [
    {
     "data": {
      "text/plain": [
       "28"
      ]
     },
     "execution_count": 5,
     "metadata": {},
     "output_type": "execute_result"
    }
   ],
   "source": [
    "good_species"
   ]
  },
  {
   "cell_type": "markdown",
   "metadata": {},
   "source": [
    "# Load and process data"
   ]
  },
  {
   "cell_type": "markdown",
   "metadata": {},
   "source": [
    "## Loading single sample pi"
   ]
  },
  {
   "cell_type": "code",
   "execution_count": 6,
   "metadata": {},
   "outputs": [],
   "source": [
    "single_pi_df = pd.DataFrame(columns = [\"species\", \n",
    "                                       \"sample\", \n",
    "                                       \"genomewide_pi\", \n",
    "                                       \"variable_sites\", \n",
    "                                       \"mean_depth\", \n",
    "                                       \"total_loci\"])\n",
    "\n",
    "species_vec = []\n",
    "sample_vec = []\n",
    "Genomewide_pi = []\n",
    "Genomewide_pi_variable_sites = []\n",
    "Mean_depth = []\n",
    "n_total_loci = []\n",
    "\n",
    "for filename in os.listdir(single_sample_pi_dir):\n",
    "    if \"Loci_Stats\" in filename:\n",
    "        continue\n",
    "    #IDing species\n",
    "    species = \"_\".join(filename.split(\"_\")[1:4])\n",
    "    #IDing sample name\n",
    "    start_index = filename.find(\"SampleID1_\") + len(\"SampleID1_\")\n",
    "    end_index = filename.find(\"_Pi\")\n",
    "    sample = filename[start_index:end_index]\n",
    "    \n",
    "    #Loading data\n",
    "    summary_stats = pd.read_csv(\"%s%s\" % (single_sample_pi_dir, filename), index_col = 0)\n",
    "    \n",
    "    #creating vectors\n",
    "    species_vec.append(species)\n",
    "    sample_vec.append(sample)\n",
    "    Genomewide_pi.append(summary_stats['Genomewide_pi'].values[0])\n",
    "    Genomewide_pi_variable_sites.append(summary_stats['Genomewide_pi_variable_sites'].values[0])\n",
    "    Mean_depth.append(summary_stats['Mean_depth'].values[0])\n",
    "    n_total_loci.append(summary_stats['n_total_loci'].values[0])\n",
    "\n",
    "single_pi_df[\"species\"] = species_vec\n",
    "single_pi_df[\"sample\"] = sample_vec\n",
    "single_pi_df[\"genomewide_pi\"] = Genomewide_pi\n",
    "single_pi_df[\"variable_sites\"] = Genomewide_pi_variable_sites\n",
    "single_pi_df[\"mean_depth\"] = Mean_depth\n",
    "single_pi_df[\"total_loci\"] = n_total_loci\n"
   ]
  },
  {
   "cell_type": "code",
   "execution_count": 8,
   "metadata": {},
   "outputs": [
    {
     "data": {
      "text/html": [
       "<div>\n",
       "<style scoped>\n",
       "    .dataframe tbody tr th:only-of-type {\n",
       "        vertical-align: middle;\n",
       "    }\n",
       "\n",
       "    .dataframe tbody tr th {\n",
       "        vertical-align: top;\n",
       "    }\n",
       "\n",
       "    .dataframe thead th {\n",
       "        text-align: right;\n",
       "    }\n",
       "</style>\n",
       "<table border=\"1\" class=\"dataframe\">\n",
       "  <thead>\n",
       "    <tr style=\"text-align: right;\">\n",
       "      <th></th>\n",
       "      <th>species</th>\n",
       "      <th>sample</th>\n",
       "      <th>genomewide_pi</th>\n",
       "      <th>variable_sites</th>\n",
       "      <th>mean_depth</th>\n",
       "      <th>total_loci</th>\n",
       "    </tr>\n",
       "  </thead>\n",
       "  <tbody>\n",
       "    <tr>\n",
       "      <th>0</th>\n",
       "      <td>Anaerostipes_hadrus_55206</td>\n",
       "      <td>M2IC_CKDN220050977-1A_H7MMHDSX5_L2</td>\n",
       "      <td>0.002988</td>\n",
       "      <td>0.445252</td>\n",
       "      <td>10.737396</td>\n",
       "      <td>5514</td>\n",
       "    </tr>\n",
       "    <tr>\n",
       "      <th>1</th>\n",
       "      <td>Alistipes_putredinis_61533</td>\n",
       "      <td>M1CeC_CKDN220050952-1A_H7MMHDSX5_L3</td>\n",
       "      <td>0.000000</td>\n",
       "      <td>NaN</td>\n",
       "      <td>10.921232</td>\n",
       "      <td>10715</td>\n",
       "    </tr>\n",
       "    <tr>\n",
       "      <th>2</th>\n",
       "      <td>Anaerostipes_hadrus_55206</td>\n",
       "      <td>M1JC_CKDN220050970-1A_H7MMHDSX5_L2</td>\n",
       "      <td>0.000374</td>\n",
       "      <td>0.371747</td>\n",
       "      <td>10.902700</td>\n",
       "      <td>10925</td>\n",
       "    </tr>\n",
       "    <tr>\n",
       "      <th>3</th>\n",
       "      <td>Alistipes_putredinis_61533</td>\n",
       "      <td>M8CeCGG</td>\n",
       "      <td>0.000828</td>\n",
       "      <td>0.211778</td>\n",
       "      <td>19.523531</td>\n",
       "      <td>23288</td>\n",
       "    </tr>\n",
       "    <tr>\n",
       "      <th>4</th>\n",
       "      <td>Adlercreutzia_equolifaciens_60310</td>\n",
       "      <td>M1DC_CKDN220050964-1A_H7MMHDSX5_L2</td>\n",
       "      <td>0.004410</td>\n",
       "      <td>0.388293</td>\n",
       "      <td>11.143523</td>\n",
       "      <td>33019</td>\n",
       "    </tr>\n",
       "    <tr>\n",
       "      <th>...</th>\n",
       "      <td>...</td>\n",
       "      <td>...</td>\n",
       "      <td>...</td>\n",
       "      <td>...</td>\n",
       "      <td>...</td>\n",
       "      <td>...</td>\n",
       "    </tr>\n",
       "    <tr>\n",
       "      <th>864</th>\n",
       "      <td>Sutterella_wadsworthensis_56828</td>\n",
       "      <td>M8ColonGG_2</td>\n",
       "      <td>0.002183</td>\n",
       "      <td>0.174962</td>\n",
       "      <td>46.357149</td>\n",
       "      <td>1887242</td>\n",
       "    </tr>\n",
       "    <tr>\n",
       "      <th>865</th>\n",
       "      <td>Parabacteroides_distasonis_56985</td>\n",
       "      <td>M6CoG_CKDN220050963-1A_H7MMHDSX5_L2</td>\n",
       "      <td>0.000070</td>\n",
       "      <td>0.111692</td>\n",
       "      <td>65.913556</td>\n",
       "      <td>2745359</td>\n",
       "    </tr>\n",
       "    <tr>\n",
       "      <th>866</th>\n",
       "      <td>Parabacteroides_distasonis_56985</td>\n",
       "      <td>M2JC_CKDN220050971-1A_H7MMHDSX5_L2</td>\n",
       "      <td>0.000079</td>\n",
       "      <td>0.240403</td>\n",
       "      <td>17.277184</td>\n",
       "      <td>2679474</td>\n",
       "    </tr>\n",
       "    <tr>\n",
       "      <th>867</th>\n",
       "      <td>Sutterella_wadsworthensis_56828</td>\n",
       "      <td>M8CeCGG</td>\n",
       "      <td>0.003398</td>\n",
       "      <td>0.168227</td>\n",
       "      <td>63.212309</td>\n",
       "      <td>2073803</td>\n",
       "    </tr>\n",
       "    <tr>\n",
       "      <th>868</th>\n",
       "      <td>Parabacteroides_distasonis_56985</td>\n",
       "      <td>M2CoC_CKDN220050959-1A_H7MMHDSX5_L2</td>\n",
       "      <td>0.000075</td>\n",
       "      <td>0.098060</td>\n",
       "      <td>76.962542</td>\n",
       "      <td>2884757</td>\n",
       "    </tr>\n",
       "  </tbody>\n",
       "</table>\n",
       "<p>869 rows × 6 columns</p>\n",
       "</div>"
      ],
      "text/plain": [
       "                               species                               sample  \\\n",
       "0            Anaerostipes_hadrus_55206   M2IC_CKDN220050977-1A_H7MMHDSX5_L2   \n",
       "1           Alistipes_putredinis_61533  M1CeC_CKDN220050952-1A_H7MMHDSX5_L3   \n",
       "2            Anaerostipes_hadrus_55206   M1JC_CKDN220050970-1A_H7MMHDSX5_L2   \n",
       "3           Alistipes_putredinis_61533                              M8CeCGG   \n",
       "4    Adlercreutzia_equolifaciens_60310   M1DC_CKDN220050964-1A_H7MMHDSX5_L2   \n",
       "..                                 ...                                  ...   \n",
       "864    Sutterella_wadsworthensis_56828                          M8ColonGG_2   \n",
       "865   Parabacteroides_distasonis_56985  M6CoG_CKDN220050963-1A_H7MMHDSX5_L2   \n",
       "866   Parabacteroides_distasonis_56985   M2JC_CKDN220050971-1A_H7MMHDSX5_L2   \n",
       "867    Sutterella_wadsworthensis_56828                              M8CeCGG   \n",
       "868   Parabacteroides_distasonis_56985  M2CoC_CKDN220050959-1A_H7MMHDSX5_L2   \n",
       "\n",
       "     genomewide_pi  variable_sites  mean_depth  total_loci  \n",
       "0         0.002988        0.445252   10.737396        5514  \n",
       "1         0.000000             NaN   10.921232       10715  \n",
       "2         0.000374        0.371747   10.902700       10925  \n",
       "3         0.000828        0.211778   19.523531       23288  \n",
       "4         0.004410        0.388293   11.143523       33019  \n",
       "..             ...             ...         ...         ...  \n",
       "864       0.002183        0.174962   46.357149     1887242  \n",
       "865       0.000070        0.111692   65.913556     2745359  \n",
       "866       0.000079        0.240403   17.277184     2679474  \n",
       "867       0.003398        0.168227   63.212309     2073803  \n",
       "868       0.000075        0.098060   76.962542     2884757  \n",
       "\n",
       "[869 rows x 6 columns]"
      ]
     },
     "execution_count": 8,
     "metadata": {},
     "output_type": "execute_result"
    }
   ],
   "source": [
    "single_pi_df"
   ]
  },
  {
   "cell_type": "markdown",
   "metadata": {},
   "source": [
    "## Processing single sample pi"
   ]
  },
  {
   "cell_type": "code",
   "execution_count": 9,
   "metadata": {},
   "outputs": [],
   "source": [
    "#Annotation functions\n",
    "\n",
    "single_pi_df['mouse'] = single_pi_df['sample'].apply(lambda sample: extract_mouse_number(sample))\n",
    "single_pi_df['cage'] = single_pi_df['sample'].apply(lambda sample: extract_cage(sample))\n",
    "single_pi_df['diet'] = single_pi_df['sample'].apply(lambda sample: extract_diet(sample))\n",
    "single_pi_df['gut_site'] = single_pi_df['sample'].apply(lambda sample: extract_gut_site(sample))\n",
    "single_pi_df['gut_region'] = single_pi_df['sample'].apply(lambda sample: extract_region(sample))\n",
    "single_pi_df[\"good_species\"] = [True if species in good_species else False for species in single_pi_df.species]"
   ]
  },
  {
   "cell_type": "code",
   "execution_count": 10,
   "metadata": {},
   "outputs": [
    {
     "data": {
      "text/html": [
       "<div>\n",
       "<style scoped>\n",
       "    .dataframe tbody tr th:only-of-type {\n",
       "        vertical-align: middle;\n",
       "    }\n",
       "\n",
       "    .dataframe tbody tr th {\n",
       "        vertical-align: top;\n",
       "    }\n",
       "\n",
       "    .dataframe thead th {\n",
       "        text-align: right;\n",
       "    }\n",
       "</style>\n",
       "<table border=\"1\" class=\"dataframe\">\n",
       "  <thead>\n",
       "    <tr style=\"text-align: right;\">\n",
       "      <th></th>\n",
       "      <th>species</th>\n",
       "      <th>sample</th>\n",
       "      <th>genomewide_pi</th>\n",
       "      <th>variable_sites</th>\n",
       "      <th>mean_depth</th>\n",
       "      <th>total_loci</th>\n",
       "      <th>mouse</th>\n",
       "      <th>cage</th>\n",
       "      <th>diet</th>\n",
       "      <th>gut_site</th>\n",
       "      <th>gut_region</th>\n",
       "      <th>good_species</th>\n",
       "    </tr>\n",
       "  </thead>\n",
       "  <tbody>\n",
       "    <tr>\n",
       "      <th>0</th>\n",
       "      <td>Anaerostipes_hadrus_55206</td>\n",
       "      <td>M2IC_CKDN220050977-1A_H7MMHDSX5_L2</td>\n",
       "      <td>0.002988</td>\n",
       "      <td>0.445252</td>\n",
       "      <td>10.737396</td>\n",
       "      <td>5514</td>\n",
       "      <td>2</td>\n",
       "      <td>Cage 1</td>\n",
       "      <td>Control diet</td>\n",
       "      <td>Ileum</td>\n",
       "      <td>Upper gut</td>\n",
       "      <td>True</td>\n",
       "    </tr>\n",
       "    <tr>\n",
       "      <th>1</th>\n",
       "      <td>Alistipes_putredinis_61533</td>\n",
       "      <td>M1CeC_CKDN220050952-1A_H7MMHDSX5_L3</td>\n",
       "      <td>0.000000</td>\n",
       "      <td>NaN</td>\n",
       "      <td>10.921232</td>\n",
       "      <td>10715</td>\n",
       "      <td>1</td>\n",
       "      <td>Cage 1</td>\n",
       "      <td>Control diet</td>\n",
       "      <td>Cecum</td>\n",
       "      <td>Lower gut</td>\n",
       "      <td>False</td>\n",
       "    </tr>\n",
       "    <tr>\n",
       "      <th>2</th>\n",
       "      <td>Anaerostipes_hadrus_55206</td>\n",
       "      <td>M1JC_CKDN220050970-1A_H7MMHDSX5_L2</td>\n",
       "      <td>0.000374</td>\n",
       "      <td>0.371747</td>\n",
       "      <td>10.902700</td>\n",
       "      <td>10925</td>\n",
       "      <td>1</td>\n",
       "      <td>Cage 1</td>\n",
       "      <td>Control diet</td>\n",
       "      <td>Jejunum</td>\n",
       "      <td>Upper gut</td>\n",
       "      <td>True</td>\n",
       "    </tr>\n",
       "    <tr>\n",
       "      <th>3</th>\n",
       "      <td>Alistipes_putredinis_61533</td>\n",
       "      <td>M8CeCGG</td>\n",
       "      <td>0.000828</td>\n",
       "      <td>0.211778</td>\n",
       "      <td>19.523531</td>\n",
       "      <td>23288</td>\n",
       "      <td>8</td>\n",
       "      <td>Cage 3</td>\n",
       "      <td>Guar gum diet</td>\n",
       "      <td>Cecum</td>\n",
       "      <td>Lower gut</td>\n",
       "      <td>False</td>\n",
       "    </tr>\n",
       "    <tr>\n",
       "      <th>4</th>\n",
       "      <td>Adlercreutzia_equolifaciens_60310</td>\n",
       "      <td>M1DC_CKDN220050964-1A_H7MMHDSX5_L2</td>\n",
       "      <td>0.004410</td>\n",
       "      <td>0.388293</td>\n",
       "      <td>11.143523</td>\n",
       "      <td>33019</td>\n",
       "      <td>1</td>\n",
       "      <td>Cage 1</td>\n",
       "      <td>Control diet</td>\n",
       "      <td>Duodenum</td>\n",
       "      <td>Upper gut</td>\n",
       "      <td>True</td>\n",
       "    </tr>\n",
       "    <tr>\n",
       "      <th>...</th>\n",
       "      <td>...</td>\n",
       "      <td>...</td>\n",
       "      <td>...</td>\n",
       "      <td>...</td>\n",
       "      <td>...</td>\n",
       "      <td>...</td>\n",
       "      <td>...</td>\n",
       "      <td>...</td>\n",
       "      <td>...</td>\n",
       "      <td>...</td>\n",
       "      <td>...</td>\n",
       "      <td>...</td>\n",
       "    </tr>\n",
       "    <tr>\n",
       "      <th>864</th>\n",
       "      <td>Sutterella_wadsworthensis_56828</td>\n",
       "      <td>M8ColonGG_2</td>\n",
       "      <td>0.002183</td>\n",
       "      <td>0.174962</td>\n",
       "      <td>46.357149</td>\n",
       "      <td>1887242</td>\n",
       "      <td>8</td>\n",
       "      <td>Cage 3</td>\n",
       "      <td>Guar gum diet</td>\n",
       "      <td>Colon</td>\n",
       "      <td>Lower gut</td>\n",
       "      <td>True</td>\n",
       "    </tr>\n",
       "    <tr>\n",
       "      <th>865</th>\n",
       "      <td>Parabacteroides_distasonis_56985</td>\n",
       "      <td>M6CoG_CKDN220050963-1A_H7MMHDSX5_L2</td>\n",
       "      <td>0.000070</td>\n",
       "      <td>0.111692</td>\n",
       "      <td>65.913556</td>\n",
       "      <td>2745359</td>\n",
       "      <td>6</td>\n",
       "      <td>Cage 3</td>\n",
       "      <td>Guar gum diet</td>\n",
       "      <td>Colon</td>\n",
       "      <td>Lower gut</td>\n",
       "      <td>True</td>\n",
       "    </tr>\n",
       "    <tr>\n",
       "      <th>866</th>\n",
       "      <td>Parabacteroides_distasonis_56985</td>\n",
       "      <td>M2JC_CKDN220050971-1A_H7MMHDSX5_L2</td>\n",
       "      <td>0.000079</td>\n",
       "      <td>0.240403</td>\n",
       "      <td>17.277184</td>\n",
       "      <td>2679474</td>\n",
       "      <td>2</td>\n",
       "      <td>Cage 1</td>\n",
       "      <td>Control diet</td>\n",
       "      <td>Jejunum</td>\n",
       "      <td>Upper gut</td>\n",
       "      <td>True</td>\n",
       "    </tr>\n",
       "    <tr>\n",
       "      <th>867</th>\n",
       "      <td>Sutterella_wadsworthensis_56828</td>\n",
       "      <td>M8CeCGG</td>\n",
       "      <td>0.003398</td>\n",
       "      <td>0.168227</td>\n",
       "      <td>63.212309</td>\n",
       "      <td>2073803</td>\n",
       "      <td>8</td>\n",
       "      <td>Cage 3</td>\n",
       "      <td>Guar gum diet</td>\n",
       "      <td>Cecum</td>\n",
       "      <td>Lower gut</td>\n",
       "      <td>True</td>\n",
       "    </tr>\n",
       "    <tr>\n",
       "      <th>868</th>\n",
       "      <td>Parabacteroides_distasonis_56985</td>\n",
       "      <td>M2CoC_CKDN220050959-1A_H7MMHDSX5_L2</td>\n",
       "      <td>0.000075</td>\n",
       "      <td>0.098060</td>\n",
       "      <td>76.962542</td>\n",
       "      <td>2884757</td>\n",
       "      <td>2</td>\n",
       "      <td>Cage 1</td>\n",
       "      <td>Control diet</td>\n",
       "      <td>Colon</td>\n",
       "      <td>Lower gut</td>\n",
       "      <td>True</td>\n",
       "    </tr>\n",
       "  </tbody>\n",
       "</table>\n",
       "<p>869 rows × 12 columns</p>\n",
       "</div>"
      ],
      "text/plain": [
       "                               species                               sample  \\\n",
       "0            Anaerostipes_hadrus_55206   M2IC_CKDN220050977-1A_H7MMHDSX5_L2   \n",
       "1           Alistipes_putredinis_61533  M1CeC_CKDN220050952-1A_H7MMHDSX5_L3   \n",
       "2            Anaerostipes_hadrus_55206   M1JC_CKDN220050970-1A_H7MMHDSX5_L2   \n",
       "3           Alistipes_putredinis_61533                              M8CeCGG   \n",
       "4    Adlercreutzia_equolifaciens_60310   M1DC_CKDN220050964-1A_H7MMHDSX5_L2   \n",
       "..                                 ...                                  ...   \n",
       "864    Sutterella_wadsworthensis_56828                          M8ColonGG_2   \n",
       "865   Parabacteroides_distasonis_56985  M6CoG_CKDN220050963-1A_H7MMHDSX5_L2   \n",
       "866   Parabacteroides_distasonis_56985   M2JC_CKDN220050971-1A_H7MMHDSX5_L2   \n",
       "867    Sutterella_wadsworthensis_56828                              M8CeCGG   \n",
       "868   Parabacteroides_distasonis_56985  M2CoC_CKDN220050959-1A_H7MMHDSX5_L2   \n",
       "\n",
       "     genomewide_pi  variable_sites  mean_depth  total_loci mouse    cage  \\\n",
       "0         0.002988        0.445252   10.737396        5514     2  Cage 1   \n",
       "1         0.000000             NaN   10.921232       10715     1  Cage 1   \n",
       "2         0.000374        0.371747   10.902700       10925     1  Cage 1   \n",
       "3         0.000828        0.211778   19.523531       23288     8  Cage 3   \n",
       "4         0.004410        0.388293   11.143523       33019     1  Cage 1   \n",
       "..             ...             ...         ...         ...   ...     ...   \n",
       "864       0.002183        0.174962   46.357149     1887242     8  Cage 3   \n",
       "865       0.000070        0.111692   65.913556     2745359     6  Cage 3   \n",
       "866       0.000079        0.240403   17.277184     2679474     2  Cage 1   \n",
       "867       0.003398        0.168227   63.212309     2073803     8  Cage 3   \n",
       "868       0.000075        0.098060   76.962542     2884757     2  Cage 1   \n",
       "\n",
       "              diet  gut_site gut_region  good_species  \n",
       "0     Control diet     Ileum  Upper gut          True  \n",
       "1     Control diet     Cecum  Lower gut         False  \n",
       "2     Control diet   Jejunum  Upper gut          True  \n",
       "3    Guar gum diet     Cecum  Lower gut         False  \n",
       "4     Control diet  Duodenum  Upper gut          True  \n",
       "..             ...       ...        ...           ...  \n",
       "864  Guar gum diet     Colon  Lower gut          True  \n",
       "865  Guar gum diet     Colon  Lower gut          True  \n",
       "866   Control diet   Jejunum  Upper gut          True  \n",
       "867  Guar gum diet     Cecum  Lower gut          True  \n",
       "868   Control diet     Colon  Lower gut          True  \n",
       "\n",
       "[869 rows x 12 columns]"
      ]
     },
     "execution_count": 10,
     "metadata": {},
     "output_type": "execute_result"
    }
   ],
   "source": [
    "single_pi_df"
   ]
  },
  {
   "cell_type": "markdown",
   "metadata": {},
   "source": [
    "## Saving"
   ]
  },
  {
   "cell_type": "code",
   "execution_count": 13,
   "metadata": {},
   "outputs": [
    {
     "data": {
      "text/plain": [
       "'/u/project/ngarud/Garud_lab/HumanizedMouse/HumanizedMouse_Batch2/popgen_stats/SinglePi_SchloissnigPi_cov10.csv'"
      ]
     },
     "execution_count": 13,
     "metadata": {},
     "output_type": "execute_result"
    }
   ],
   "source": [
    "single_sample_pi_output"
   ]
  },
  {
   "cell_type": "code",
   "execution_count": 14,
   "metadata": {},
   "outputs": [],
   "source": [
    "single_pi_df.to_csv(single_sample_pi_output)"
   ]
  },
  {
   "cell_type": "markdown",
   "metadata": {},
   "source": [
    "#### Filtering to include only good species\n",
    "\n",
    "\n"
   ]
  },
  {
   "cell_type": "code",
   "execution_count": null,
   "metadata": {},
   "outputs": [],
   "source": [
    "single_pi_df = single_pi_df[single_pi_df.good_species]"
   ]
  },
  {
   "cell_type": "code",
   "execution_count": null,
   "metadata": {},
   "outputs": [],
   "source": [
    "single_pi_df"
   ]
  },
  {
   "cell_type": "code",
   "execution_count": null,
   "metadata": {},
   "outputs": [],
   "source": [
    "species_with_inoculum_maximum = []\n",
    "\n",
    "# single_pi_df.groupby([\"species\", \"sample\"]).mean().sort_values([\"species\", \"sample\"], ascending = False).loc['Sutterella_wadsworthensis_56828']\n",
    "species_pi = single_pi_df.groupby([\"species\", \"sample\"]).mean()#.loc['Sutterella_wadsworthensis_56828']['genomewide_pi'].idxmax()\n",
    "species_list = list(set([tpl[0] for tpl in species_pi.index]))\n",
    "for species in species_list:\n",
    "    max_sample = species_pi.loc[species]['genomewide_pi'].idxmax()\n",
    "    if max_sample == \"TL1gDNAshort\":\n",
    "        species_with_inoculum_maximum.append(species)\n",
    "\n"
   ]
  },
  {
   "cell_type": "code",
   "execution_count": null,
   "metadata": {},
   "outputs": [],
   "source": [
    "inoculum_percent_pi_df = pd.DataFrame(columns = species_pi.columns) #, index = species_pi.index\n",
    "\n",
    "for species in species_list:\n",
    "    species_chunk = species_pi.loc[species]\n",
    "    inoculum_pi = species_chunk.loc['TL1gDNAshort']\n",
    "    species_percent_inoculum_pi = species_pi.loc[\"Sutterella_wadsworthensis_56828\"]\n",
    "    species_percent_inoculum_pi['genomewide_pi'] = species_percent_inoculum_pi['genomewide_pi']/inoculum_pi\n",
    "    inoculum_percent_pi_df = pd.concat([inoculum_percent_pi_df, species_percent_inoculum_pi], ignore_index=False)\n",
    "\n",
    "    "
   ]
  },
  {
   "cell_type": "code",
   "execution_count": null,
   "metadata": {},
   "outputs": [],
   "source": [
    "inoculum_percent_pi_df"
   ]
  },
  {
   "cell_type": "code",
   "execution_count": null,
   "metadata": {},
   "outputs": [],
   "source": [
    "species_pi.loc[\"Sutterella_wadsworthensis_56828\"].drop(index = 'TL1gDNAshort')"
   ]
  },
  {
   "cell_type": "markdown",
   "metadata": {},
   "source": [
    "#### Calculations"
   ]
  },
  {
   "cell_type": "code",
   "execution_count": null,
   "metadata": {},
   "outputs": [],
   "source": [
    "pd.DataFrame(single_pi_df[single_pi_df['sample'] != \"TL1gDNAshort\"].groupby(\"species\")[\"genomewide_pi\"].mean()).sort_values(\"genomewide_pi\", ascending = False)\n",
    "\n",
    "\n"
   ]
  },
  {
   "cell_type": "markdown",
   "metadata": {},
   "source": [
    "# Paired sample pi"
   ]
  },
  {
   "cell_type": "markdown",
   "metadata": {},
   "source": [
    "## Loading paired sample pi"
   ]
  },
  {
   "cell_type": "code",
   "execution_count": null,
   "metadata": {},
   "outputs": [],
   "source": [
    "paired_pi_df = pd.read_csv(paired_pi_dir)\n",
    "paired_pi_df = paired_pi_df.drop([\"Unnamed: 0\", \"level_0\", \"Unnamed: 0.1\"], axis = 1)\n",
    "paired_pi_df = paired_pi_df.reset_index()"
   ]
  },
  {
   "cell_type": "markdown",
   "metadata": {},
   "source": [
    "## Processing paired sample pi"
   ]
  },
  {
   "cell_type": "code",
   "execution_count": null,
   "metadata": {},
   "outputs": [],
   "source": [
    "paired_pi_df = paired_pi_df[[True if \"OverallStats_NA\" not in index else False for index in paired_pi_df['index']]].copy()\n",
    "paired_pi_df['species'] = paired_pi_df['species'].apply(lambda species: \"_\".join(species.split(\"_\")[:3]))\n",
    "paired_pi_df['mouse_1'] = paired_pi_df['Sample1'].apply(lambda sample: sample[1:2] if sample != \"TL1gDNAshort\" else \"Inoculum\")\n",
    "paired_pi_df['mouse_2'] = paired_pi_df['Sample2'].apply(lambda sample: sample[1:2] if sample != \"TL1gDNAshort\" else \"Inoculum\")\n",
    "paired_pi_df['cage_1'] = paired_pi_df['mouse_1'].apply(lambda mouse: \"Cage 1\" if mouse in [\"1\",\"2\",\"3\"] else \"Cage 2\" if mouse in [\"4\",\"5\"] else \"Cage 3\" if mouse in [\"6\",\"7\",\"8\"] else \"Inoculum\")\n",
    "paired_pi_df['cage_2'] = paired_pi_df['mouse_2'].apply(lambda mouse: \"Cage 1\" if mouse in [\"1\",\"2\",\"3\"] else \"Cage 2\" if mouse in [\"4\",\"5\"] else \"Cage 3\" if mouse in [\"6\",\"7\",\"8\"] else \"Inoculum\")\n",
    "paired_pi_df['gut_site_1'] = paired_pi_df['Sample1'].apply(lambda sample: \"Duodenum\" if sample[2:3] == \"D\" else \"Jejunum\" if sample[2:3] == \"J\" else \"Ileum\" if sample[2:3] == \"I\" else \"Cecum\" if sample[2:4] == \"Ce\" else \"Colon\" if sample[2:4] == \"Co\" else \"Inoculum\")\n",
    "paired_pi_df['gut_site_2'] = paired_pi_df['Sample2'].apply(lambda sample: \"Duodenum\" if sample[2:3] == \"D\" else \"Jejunum\" if sample[2:3] == \"J\" else \"Ileum\" if sample[2:3] == \"I\" else \"Cecum\" if sample[2:4] == \"Ce\" else \"Colon\" if sample[2:4] == \"Co\" else \"Inoculum\")\n",
    "paired_pi_df['region_1'] = paired_pi_df['gut_site_1'].apply(lambda gut_site: \"Upper gut\" if gut_site in [\"Duodenum\", \"Ileum\", \"Jejunum\"] else \"Lower gut\" if gut_site in [\"Cecum\", \"Colon\"] else \"Inoculum\")\n",
    "paired_pi_df['region_2'] = paired_pi_df['gut_site_2'].apply(lambda gut_site: \"Upper gut\" if gut_site in [\"Duodenum\", \"Ileum\", \"Jejunum\"] else \"Lower gut\" if gut_site in [\"Cecum\", \"Colon\"] else \"Inoculum\")\n",
    "paired_pi_df['orientation'] = paired_pi_df.apply(lambda row: \"Within host\" if row['mouse_1'] == row['mouse_2'] else \"Between inoculum\" if (row['mouse_1'] == \"Inoculum\") | (row['mouse_2'] == \"Inoculum\") else \"Between host\", axis = 1)\n",
    "paired_pi_df['cage_orientation'] = paired_pi_df.apply(lambda row: \"Between inoculum\" if (row['mouse_1'] == \"Inoculum\") | (row['mouse_2'] == \"Inoculum\") \n",
    "                                                      else \n",
    "                                                      \"Between cage\" if row['cage_1'] != row['cage_2'] \n",
    "                                                      else \n",
    "                                                      \"Within cage\", axis = 1)\n",
    "paired_pi_df['pi_or_fst'] = paired_pi_df['index'].apply(lambda string: \"pi\" if string.split(\"_\")[-1] == \"Pi.csv\" else \"Fst\" if string.split(\"_\")[-1] == \"Fst.csv\" else \"Exclude\")\n",
    "paired_pi_df = paired_pi_df[paired_pi_df.pi_or_fst == \"pi\"]\n",
    "paired_pi_df[['Sample1', 'Sample2']] = paired_pi_df[['Sample1', 'Sample2']].apply(lambda row: pd.Series(sorted(row)), axis=1)\n",
    "paired_pi_df = paired_pi_df.drop_duplicates(['species','Sample1','Sample2'])\n",
    "paired_pi_df['good_species'] = [True if species in good_species else False for species in paired_pi_df.species]\n"
   ]
  },
  {
   "cell_type": "markdown",
   "metadata": {},
   "source": [
    "#### Saving"
   ]
  },
  {
   "cell_type": "code",
   "execution_count": null,
   "metadata": {},
   "outputs": [],
   "source": [
    "paired_pi_df.to_csv(paired_sample_pi_output)"
   ]
  },
  {
   "cell_type": "code",
   "execution_count": null,
   "metadata": {},
   "outputs": [],
   "source": [
    "paired_sample_pi_output"
   ]
  },
  {
   "cell_type": "markdown",
   "metadata": {},
   "source": [
    "#### Filtering for good species"
   ]
  },
  {
   "cell_type": "code",
   "execution_count": null,
   "metadata": {},
   "outputs": [],
   "source": [
    "paired_pi_df = paired_pi_df[[True if species in good_species else False for species in paired_pi_df.species]]"
   ]
  },
  {
   "cell_type": "code",
   "execution_count": null,
   "metadata": {},
   "outputs": [],
   "source": []
  },
  {
   "cell_type": "markdown",
   "metadata": {},
   "source": [
    "#### Calculations"
   ]
  },
  {
   "cell_type": "code",
   "execution_count": null,
   "metadata": {},
   "outputs": [],
   "source": [
    "pd.DataFrame(paired_pi_df[paired_pi_df.orientation == \"Between host\"].groupby(\"species\")['pi_vec'].mean()).sort_values(\"pi_vec\")\n"
   ]
  },
  {
   "cell_type": "code",
   "execution_count": null,
   "metadata": {},
   "outputs": [],
   "source": [
    "pd.DataFrame(paired_pi_df[paired_pi_df.orientation == \"Within host\"].groupby(\"species\")['pi_vec'].mean()).sort_values(\"pi_vec\")\n"
   ]
  },
  {
   "cell_type": "markdown",
   "metadata": {},
   "source": [
    "# Correlations"
   ]
  },
  {
   "cell_type": "markdown",
   "metadata": {},
   "source": [
    "### Single sample pi"
   ]
  },
  {
   "cell_type": "code",
   "execution_count": null,
   "metadata": {},
   "outputs": [],
   "source": [
    "mouse_average = pd.DataFrame(single_pi_df[single_pi_df['sample'] != \"TL1gDNAshort\"].groupby(by = ['species'])['genomewide_pi'].mean()).reset_index()\n",
    "\n"
   ]
  },
  {
   "cell_type": "code",
   "execution_count": null,
   "metadata": {},
   "outputs": [],
   "source": [
    "inoculum = pd.DataFrame(single_pi_df[single_pi_df['sample'] == \"TL1gDNAshort\"].set_index('species').genomewide_pi).reset_index()\n"
   ]
  },
  {
   "cell_type": "code",
   "execution_count": null,
   "metadata": {},
   "outputs": [],
   "source": [
    "merged_df = mouse_average.merge(inoculum, on = 'species', how = 'left')\n",
    "merged_df_multi_strain = merged_df[merged_df.genomewide_pi_y >= 0.001]\n",
    "merged_df_single_strain = merged_df[merged_df.genomewide_pi_y < 0.001]"
   ]
  },
  {
   "cell_type": "code",
   "execution_count": null,
   "metadata": {},
   "outputs": [],
   "source": [
    "sc.stats.spearmanr(merged_df['genomewide_pi_x'], merged_df['genomewide_pi_y'], nan_policy = \"omit\")"
   ]
  },
  {
   "cell_type": "code",
   "execution_count": null,
   "metadata": {},
   "outputs": [],
   "source": [
    "sc.stats.spearmanr(merged_df_multi_strain['genomewide_pi_x'], merged_df_multi_strain['genomewide_pi_y'], nan_policy = \"omit\")\n"
   ]
  },
  {
   "cell_type": "code",
   "execution_count": null,
   "metadata": {},
   "outputs": [],
   "source": [
    "sc.stats.spearmanr(merged_df_single_strain['genomewide_pi_x'], merged_df_single_strain['genomewide_pi_y'], nan_policy = \"omit\")\n",
    "\n"
   ]
  },
  {
   "cell_type": "markdown",
   "metadata": {},
   "source": [
    "#### Not grouped"
   ]
  },
  {
   "cell_type": "code",
   "execution_count": null,
   "metadata": {},
   "outputs": [],
   "source": [
    "mouse_single = pd.DataFrame(single_pi_df[single_pi_df['sample'] != \"TL1gDNAshort\"])\n",
    "merged_df = mouse_single.merge(inoculum, on = 'species', how = 'left')\n",
    "merged_df_multi_strain = merged_df[merged_df.genomewide_pi_y >= 0.001]\n",
    "merged_df_single_strain = merged_df[merged_df.genomewide_pi_y < 0.001]\n"
   ]
  },
  {
   "cell_type": "code",
   "execution_count": null,
   "metadata": {},
   "outputs": [],
   "source": [
    "sc.stats.spearmanr(merged_df['genomewide_pi_x'], merged_df['genomewide_pi_y'], nan_policy = \"omit\")"
   ]
  },
  {
   "cell_type": "code",
   "execution_count": null,
   "metadata": {},
   "outputs": [],
   "source": [
    "sc.stats.spearmanr(merged_df_multi_strain['genomewide_pi_x'], merged_df_multi_strain['genomewide_pi_y'], nan_policy = \"omit\")\n"
   ]
  },
  {
   "cell_type": "code",
   "execution_count": null,
   "metadata": {},
   "outputs": [],
   "source": [
    "sc.stats.spearmanr(merged_df_single_strain['genomewide_pi_x'], merged_df_single_strain['genomewide_pi_y'], nan_policy = \"omit\")\n",
    "\n"
   ]
  },
  {
   "cell_type": "code",
   "execution_count": null,
   "metadata": {},
   "outputs": [],
   "source": [
    "- merged_df_single_strain['genomewide_pi_y']"
   ]
  },
  {
   "cell_type": "markdown",
   "metadata": {},
   "source": [
    "### paired pi"
   ]
  },
  {
   "cell_type": "code",
   "execution_count": null,
   "metadata": {},
   "outputs": [],
   "source": [
    "mouse_average = pd.DataFrame(paired_pi_df[(paired_pi_df['Sample2'] != \"TL1gDNAshort\") & (paired_pi_df['orientation'] != \"Between host\")].groupby(by = ['species'])['pi_vec'].mean()).reset_index()\n"
   ]
  },
  {
   "cell_type": "code",
   "execution_count": null,
   "metadata": {},
   "outputs": [],
   "source": [
    "merged_df = mouse_average.merge(inoculum, on = 'species', how = 'left')\n",
    "merged_df_multi_strain = merged_df[merged_df.genomewide_pi >= 0.001]\n",
    "merged_df_single_strain = merged_df[merged_df.genomewide_pi < 0.001]"
   ]
  },
  {
   "cell_type": "code",
   "execution_count": null,
   "metadata": {},
   "outputs": [],
   "source": [
    "sc.stats.spearmanr(merged_df['pi_vec'], merged_df['genomewide_pi'], nan_policy = \"omit\")"
   ]
  },
  {
   "cell_type": "code",
   "execution_count": null,
   "metadata": {},
   "outputs": [],
   "source": [
    "sc.stats.spearmanr(merged_df_multi_strain['pi_vec'], merged_df_multi_strain['genomewide_pi'], nan_policy = \"omit\")\n"
   ]
  },
  {
   "cell_type": "code",
   "execution_count": null,
   "metadata": {},
   "outputs": [],
   "source": [
    "sc.stats.spearmanr(merged_df_single_strain['pi_vec'], merged_df_single_strain['genomewide_pi'], nan_policy = \"omit\")\n",
    "\n"
   ]
  },
  {
   "cell_type": "code",
   "execution_count": null,
   "metadata": {},
   "outputs": [],
   "source": []
  },
  {
   "cell_type": "code",
   "execution_count": null,
   "metadata": {},
   "outputs": [],
   "source": [
    "merged_df = mouse_average.merge(inoculum, on = 'species', how = 'left')\n",
    "merged_df_multi_strain = merged_df[merged_df.genomewide_pi_y >= 0.001]\n",
    "merged_df_single_strain = merged_df[merged_df.genomewide_pi_y < 0.001]"
   ]
  },
  {
   "cell_type": "markdown",
   "metadata": {},
   "source": [
    "# Plotting"
   ]
  },
  {
   "cell_type": "markdown",
   "metadata": {},
   "source": [
    "## Intersample pi vs. inoculum pi"
   ]
  },
  {
   "cell_type": "markdown",
   "metadata": {},
   "source": [
    "### 1. Create inoculum single pi dataframe"
   ]
  },
  {
   "cell_type": "code",
   "execution_count": null,
   "metadata": {},
   "outputs": [],
   "source": [
    "inoculum_pi = single_pi_df[single_pi_df.gut_site == \"Inoculum\"].reset_index().drop(['index'], axis = 1).rename(columns = {\"genomewide_pi\": \"pi_vec\"}).copy()\n",
    "\n",
    "\n"
   ]
  },
  {
   "cell_type": "markdown",
   "metadata": {},
   "source": [
    "### 2. Create between host paired pi df"
   ]
  },
  {
   "cell_type": "code",
   "execution_count": null,
   "metadata": {},
   "outputs": [],
   "source": [
    "paired_pi_betweenhost = paired_pi_df[paired_pi_df['orientation'] == 'Between host'].reset_index().drop(['index'], axis =1)\n"
   ]
  },
  {
   "cell_type": "markdown",
   "metadata": {},
   "source": [
    "### 3. Create within host paired pi df"
   ]
  },
  {
   "cell_type": "code",
   "execution_count": null,
   "metadata": {},
   "outputs": [],
   "source": [
    "paired_pi_withinhost = paired_pi_df[paired_pi_df['orientation'] == 'Within host'].reset_index().drop(['index'], axis =1)\n"
   ]
  },
  {
   "cell_type": "markdown",
   "metadata": {},
   "source": [
    "### 4. Create within sample pi df"
   ]
  },
  {
   "cell_type": "code",
   "execution_count": null,
   "metadata": {},
   "outputs": [],
   "source": [
    "#median_single_pi = (single_pi_df[single_pi_df['gut_site'] != \"Inoculum\"].groupby(['species'])['genomewide_pi'].median()).reset_index().rename(columns = {\"genomewide_pi\":\"pi_vec\"})\n",
    "single_pi = single_pi_df[single_pi_df['gut_site'] != \"Inoculum\"].reset_index().drop(['index'], axis =1).rename(columns = {\"genomewide_pi\":\"pi_vec\"})\n",
    "\n"
   ]
  },
  {
   "cell_type": "markdown",
   "metadata": {},
   "source": [
    "### 5. Merging datasets"
   ]
  },
  {
   "cell_type": "code",
   "execution_count": null,
   "metadata": {},
   "outputs": [],
   "source": [
    "### Merging with inoculum\n",
    "between_df = pd.merge(inoculum_pi[['species', 'pi_vec']],\n",
    "                     paired_pi_betweenhost[['species', 'pi_vec']],\n",
    "                     on='species').rename(columns = {\"pi_vec_x\": \"Inoculum pi\", \"pi_vec_y\": \"Intersample pi, between host\"})\n",
    "\n",
    "within_df = pd.merge(inoculum_pi[['species', 'pi_vec']],\n",
    "                     paired_pi_withinhost[['species', 'pi_vec']],\n",
    "                     on='species').rename(columns = {\"pi_vec_x\": \"Inoculum pi\", \"pi_vec_y\": \"Intersample pi, within host\"})\n",
    "\n",
    "single_df = pd.merge(inoculum_pi[['species', 'pi_vec']], \n",
    "                                   single_pi[['species', 'pi_vec']], \n",
    "                                   on = 'species').rename(columns = {\"pi_vec_x\": \"Inoculum pi\", \"pi_vec_y\": \"Intrasample pi\"})\n",
    "\n"
   ]
  },
  {
   "cell_type": "code",
   "execution_count": null,
   "metadata": {},
   "outputs": [],
   "source": [
    "axis_max = max(list(inoculum_pi['pi_vec']) + \n",
    "               list(between_df['Intersample pi, between host']) + \n",
    "               list(within_df['Intersample pi, within host']) + \n",
    "               list(single_df['Intrasample pi']))*1.1\n"
   ]
  },
  {
   "cell_type": "markdown",
   "metadata": {},
   "source": [
    "## Plot 1: Between mice"
   ]
  },
  {
   "cell_type": "code",
   "execution_count": null,
   "metadata": {
    "scrolled": false
   },
   "outputs": [],
   "source": [
    "# Create a figure and axis\n",
    "fig, ax = plt.subplots(figsize=(10, 8))\n",
    "\n",
    "sns.scatterplot(data = between_df, x = \"Inoculum pi\", y = \"Intersample pi, between host\")\n",
    "\n",
    "# Set axis labels and plot title\n",
    "ax.set_xlabel(\"Inoculum $\\pi$\", fontsize=20)\n",
    "ax.set_ylabel(\"Intersample $\\pi$, between host\", fontsize=20)\n",
    "ax.tick_params(axis='both', which='both', labelsize=20)\n",
    "\n",
    "# add x = y lines\n",
    "x_vals = np.arange(0,1,0.001)\n",
    "y_vals = np.arange(0,1,0.001)\n",
    "ax.plot(x_vals, x_vals, 'r--') \n",
    "\n",
    "ax.set_xlim(0,axis_max)\n",
    "ax.set_ylim(0,axis_max)\n"
   ]
  },
  {
   "cell_type": "code",
   "execution_count": null,
   "metadata": {},
   "outputs": [],
   "source": [
    "inoculum_pi[(inoculum_pi['pi_vec'] > 0.012)]"
   ]
  },
  {
   "cell_type": "code",
   "execution_count": null,
   "metadata": {},
   "outputs": [],
   "source": [
    "file_name = \"%s\" % (\"pi_scatter_betweenhost.png\")\n",
    "path = \"%spopgen_stats/%s\" % (config.figure_directory, file_name)\n",
    "fig.savefig(path, bbox_inches = \"tight\", dpi = 300)"
   ]
  },
  {
   "cell_type": "code",
   "execution_count": null,
   "metadata": {},
   "outputs": [],
   "source": [
    "# Create a figure and axis\n",
    "fig, ax = plt.subplots(figsize=(10, 8))\n",
    "\n",
    "sns.scatterplot(data = between_df, x = \"Inoculum pi\", y = \"Intersample pi, between host\")\n",
    "\n",
    "# Set axis labels and plot title\n",
    "ax.set_xlabel(\"Inoculum $\\pi$\", fontsize=20)\n",
    "ax.set_ylabel(\"Intersample $\\pi$, between host\", fontsize=20)\n",
    "ax.tick_params(axis='both', which='both', labelsize=20)\n",
    "\n",
    "# add x = y lines\n",
    "x_vals = np.arange(0,1,0.001)\n",
    "y_vals = np.arange(0,1,0.001)\n",
    "ax.plot(x_vals, x_vals, 'r--') \n",
    "\n",
    "ax.set_xlim(0,0.00125)\n",
    "ax.set_ylim(0,0.00125)"
   ]
  },
  {
   "cell_type": "code",
   "execution_count": null,
   "metadata": {},
   "outputs": [],
   "source": [
    "inoculum_pi[(inoculum_pi['pi_vec'] > 0.001) & (inoculum_pi['pi_vec'] < 0.0011)]"
   ]
  },
  {
   "cell_type": "code",
   "execution_count": null,
   "metadata": {},
   "outputs": [],
   "source": [
    "file_name = \"%s\" % (\"pi_scatter_betweenhost_ZOOMED.png\")\n",
    "path = \"%spopgen_stats/%s\" % (config.figure_directory, file_name)\n",
    "fig.savefig(path, bbox_inches = \"tight\", dpi = 300)"
   ]
  },
  {
   "cell_type": "markdown",
   "metadata": {},
   "source": [
    "## Plot 2: Intersample, within mice"
   ]
  },
  {
   "cell_type": "code",
   "execution_count": null,
   "metadata": {},
   "outputs": [],
   "source": [
    "# Create a figure and axis\n",
    "fig, ax = plt.subplots(figsize=(10, 8))\n",
    "\n",
    "sns.scatterplot(data = within_df, x = \"Inoculum pi\", y = \"Intersample pi, within host\")\n",
    "\n",
    "# Set axis labels and plot title\n",
    "ax.set_xlabel(\"Inoculum $\\pi$\", fontsize=20)\n",
    "ax.set_ylabel(\"Intersample $\\pi$, within host\", fontsize=20)\n",
    "ax.tick_params(axis='both', which='both', labelsize=20)\n",
    "\n",
    "# add x = y lines\n",
    "x_vals = np.arange(0,1,0.001)\n",
    "y_vals = np.arange(0,1,0.001)\n",
    "ax.plot(x_vals, x_vals, 'r--') \n",
    "\n",
    "ax.set_xlim(0,axis_max)\n",
    "ax.set_ylim(0,axis_max)"
   ]
  },
  {
   "cell_type": "code",
   "execution_count": null,
   "metadata": {},
   "outputs": [],
   "source": [
    "inoculum_pi[(inoculum_pi['pi_vec'] > 0.001) & (inoculum_pi['pi_vec'] < 0.0012)]"
   ]
  },
  {
   "cell_type": "code",
   "execution_count": null,
   "metadata": {},
   "outputs": [],
   "source": [
    "within_df[within_df['Intersample pi, within host'] > 0.008]"
   ]
  },
  {
   "cell_type": "code",
   "execution_count": null,
   "metadata": {},
   "outputs": [],
   "source": [
    "paired_pi_withinhost[paired_pi_withinhost['pi_vec'] == 0.00908]"
   ]
  },
  {
   "cell_type": "code",
   "execution_count": null,
   "metadata": {},
   "outputs": [],
   "source": [
    "paired_pi_withinhost[paired_pi_withinhost.pi_vec > 0.009]"
   ]
  },
  {
   "cell_type": "code",
   "execution_count": null,
   "metadata": {},
   "outputs": [],
   "source": [
    "file_name = \"%s\" % (\"pi_scatter_withinhost.png\")\n",
    "path = \"%spopgen_stats/%s\" % (config.figure_directory, file_name)\n",
    "fig.savefig(path, bbox_inches = \"tight\", dpi = 300)"
   ]
  },
  {
   "cell_type": "code",
   "execution_count": null,
   "metadata": {},
   "outputs": [],
   "source": [
    "# Create a figure and axis\n",
    "fig, ax = plt.subplots(figsize=(10, 8))\n",
    "\n",
    "sns.scatterplot(data = within_df, x = \"Inoculum pi\", y = \"Intersample pi, within host\")\n",
    "\n",
    "# Set axis labels and plot title\n",
    "ax.set_xlabel(\"Inoculum $\\pi$\", fontsize=20)\n",
    "ax.set_ylabel(\"Intersample $\\pi$, within host\", fontsize=20)\n",
    "ax.tick_params(axis='both', which='both', labelsize=20)\n",
    "\n",
    "# add x = y lines\n",
    "x_vals = np.arange(0,1,0.001)\n",
    "y_vals = np.arange(0,1,0.001)\n",
    "ax.plot(x_vals, x_vals, 'r--') \n",
    "\n",
    "ax.set_xlim(0,0.00125)\n",
    "ax.set_ylim(0,0.00125)"
   ]
  },
  {
   "cell_type": "code",
   "execution_count": null,
   "metadata": {},
   "outputs": [],
   "source": [
    "file_name = \"%s\" % (\"pi_scatter_withinhost_ZOOMED.png\")\n",
    "path = \"%spopgen_stats/%s\" % (config.figure_directory, file_name)\n",
    "fig.savefig(path, bbox_inches = \"tight\", dpi = 300)"
   ]
  },
  {
   "cell_type": "markdown",
   "metadata": {},
   "source": [
    "## Plot 3: intrasample pi"
   ]
  },
  {
   "cell_type": "code",
   "execution_count": null,
   "metadata": {},
   "outputs": [],
   "source": [
    "# Create a figure and axis\n",
    "fig, ax = plt.subplots(figsize=(10, 8))\n",
    "\n",
    "sns.scatterplot(data = single_df, x = \"Inoculum pi\", y = \"Intrasample pi\")\n",
    "\n",
    "# Set axis labels and plot title\n",
    "ax.set_xlabel(\"Inoculum $\\pi$\", fontsize=20)\n",
    "ax.set_ylabel(\"Intrasample $\\pi$\", fontsize=20)\n",
    "ax.tick_params(axis='both', which='both', labelsize=20)\n",
    "\n",
    "# add x = y lines\n",
    "x_vals = np.arange(0,1,0.001)\n",
    "y_vals = np.arange(0,1,0.001)\n",
    "ax.plot(x_vals, x_vals, 'r--') \n",
    "\n",
    "ax.set_xlim(0,axis_max)\n",
    "ax.set_ylim(0,axis_max)"
   ]
  },
  {
   "cell_type": "code",
   "execution_count": null,
   "metadata": {},
   "outputs": [],
   "source": [
    "file_name = \"%s\" % (\"pi_scatter_intrasample.png\")\n",
    "path = \"%spopgen_stats/%s\" % (config.figure_directory, file_name)\n",
    "fig.savefig(path, bbox_inches = \"tight\", dpi = 300)"
   ]
  },
  {
   "cell_type": "code",
   "execution_count": null,
   "metadata": {},
   "outputs": [],
   "source": [
    "# Create a figure and axis\n",
    "fig, ax = plt.subplots(figsize=(10, 8))\n",
    "\n",
    "sns.scatterplot(data = single_df, x = \"Inoculum pi\", y = \"Intrasample pi\")\n",
    "\n",
    "# Set axis labels and plot title\n",
    "ax.set_xlabel(\"Inoculum $\\pi$\", fontsize=20)\n",
    "ax.set_ylabel(\"Intrasample $\\pi$\", fontsize=20)\n",
    "ax.tick_params(axis='both', which='both', labelsize=20)\n",
    "\n",
    "# add x = y lines\n",
    "x_vals = np.arange(0,1,0.001)\n",
    "y_vals = np.arange(0,1,0.001)\n",
    "ax.plot(x_vals, x_vals, 'r--') \n",
    "\n",
    "ax.set_xlim(0,0.00125)\n",
    "ax.set_ylim(0,0.00125)"
   ]
  },
  {
   "cell_type": "code",
   "execution_count": null,
   "metadata": {},
   "outputs": [],
   "source": [
    "file_name = \"%s\" % (\"pi_scatter_intrasample_ZOOMED.png\")\n",
    "path = \"%spopgen_stats/%s\" % (config.figure_directory, file_name)\n",
    "fig.savefig(path, bbox_inches = \"tight\", dpi = 300)"
   ]
  },
  {
   "cell_type": "markdown",
   "metadata": {},
   "source": [
    "# Bimodal plot"
   ]
  },
  {
   "cell_type": "code",
   "execution_count": null,
   "metadata": {},
   "outputs": [],
   "source": [
    "# Create a figure and axis\n",
    "fig, ax = plt.subplots(figsize=(10, 8))\n",
    "\n",
    "sns.histplot(inoculum_pi.rename(columns={\"pi_vec\": \"pi\"}).pi, ax=ax, kde=True, bins = 100)\n",
    "\n",
    "threshold = 0.001\n",
    "for bar in ax.patches:\n",
    "    if bar.get_x() > threshold:\n",
    "        bar.set_color('red')"
   ]
  },
  {
   "cell_type": "code",
   "execution_count": null,
   "metadata": {},
   "outputs": [],
   "source": [
    "# Create a figure and axis\n",
    "fig, ax = plt.subplots(figsize=(10, 8))\n",
    "\n",
    "legend_elements = [\n",
    "    Line2D([0], [0], marker='o', color='w', label='Inoculum $\\pi \\ge 10^{-3}$', markerfacecolor='red', markersize=15),\n",
    "    Line2D([0], [0], marker='o', color='w', label='Inoculum $\\pi < 10^{-3}$', markerfacecolor='blue', markersize=15)\n",
    "]\n",
    "legend_elements.extend([\n",
    "    Line2D([0], [0], color='black', linestyle='--', label='Inoculum $\\pi = 10^{-3}$')\n",
    "])\n",
    "\n",
    "sns.scatterplot(data = between_df, x = \"Inoculum pi\", y = \"Intersample pi, between host\", hue=(between_df[\"Inoculum pi\"] >= 0.001), palette={True: 'red', False: 'blue'})\n",
    "\n",
    "# Set axis labels and plot title\n",
    "ax.set_xlabel(\"Inoculum $\\pi$\", fontsize=20)\n",
    "ax.set_ylabel(\"Intersample $\\pi$, between host\", fontsize=20)\n",
    "ax.tick_params(axis='both', which='both', labelsize=20)\n",
    "\n",
    "# add x = y lines\n",
    "ax.axvline(0.001, color='black', linestyle='--')\n",
    "# x_vals = np.arange(0,1,0.001)\n",
    "# y_vals = np.arange(0,1,0.001)\n",
    "# ax.plot(x_vals, x_vals, 'r--') \n",
    "\n",
    "ax.legend(handles=legend_elements, fontsize = 20)\n",
    "\n",
    "\n",
    "ax.set_xlim(0,axis_max)\n",
    "# ax.set_xlim(0.002,0.003)\n",
    "ax.set_ylim(0,axis_max)\n"
   ]
  },
  {
   "cell_type": "code",
   "execution_count": null,
   "metadata": {},
   "outputs": [],
   "source": [
    "inoculum_pi[(inoculum_pi['pi_vec'] > 0.002) & (inoculum_pi['pi_vec'] < 0.003)]"
   ]
  },
  {
   "cell_type": "code",
   "execution_count": null,
   "metadata": {},
   "outputs": [],
   "source": [
    "file_name = \"%s\" % (\"pi_scatter_betweenhost_colored.png\")\n",
    "path = \"%spopgen_stats/%s\" % (config.figure_directory, file_name)\n",
    "fig.savefig(path, bbox_inches = \"tight\", dpi = 300)"
   ]
  },
  {
   "cell_type": "markdown",
   "metadata": {},
   "source": [
    "### Label ovatus"
   ]
  },
  {
   "cell_type": "code",
   "execution_count": null,
   "metadata": {},
   "outputs": [],
   "source": [
    "# Create a figure and axis\n",
    "fig, ax = plt.subplots(figsize=(10, 8))\n",
    "\n",
    "legend_elements = [\n",
    "    Line2D([0], [0], marker='o', color='w', label='$\\emph{Bacteroides ovatus}$', markerfacecolor='red', markersize=15)\n",
    "]\n",
    "legend_elements.extend([\n",
    "    Line2D([0], [0], color='black', linestyle='--', label='Inoculum $\\pi = 10^{-3}$')\n",
    "])\n",
    "\n",
    "\n",
    "sns.scatterplot(data = between_df[between_df[\"Inoculum pi\"] >= 0.001], x = \"Inoculum pi\", y = \"Intersample pi, between host\", hue=(between_df[\"species\"]  == \"Bacteroides_ovatus_58035\"), palette={True: 'red', False: 'blue'})\n",
    "\n",
    "# Set axis labels and plot title\n",
    "ax.set_xlabel(\"Inoculum $\\pi$\", fontsize=20)\n",
    "ax.set_ylabel(\"Intersample $\\pi$, between host\", fontsize=20)\n",
    "ax.tick_params(axis='both', which='both', labelsize=20)\n",
    "\n",
    "# add x = y lines\n",
    "ax.axvline(0.001, color='black', linestyle='--')\n",
    "# x_vals = np.arange(0,1,0.001)\n",
    "# y_vals = np.arange(0,1,0.001)\n",
    "# ax.plot(x_vals, x_vals, 'r--') \n",
    "\n",
    "ax.legend(handles=legend_elements, fontsize = 20)\n",
    "\n",
    "\n",
    "ax.set_xlim(0,axis_max)\n",
    "# ax.set_xlim(0.002,0.003)\n",
    "ax.set_ylim(0,axis_max)\n"
   ]
  },
  {
   "cell_type": "code",
   "execution_count": null,
   "metadata": {},
   "outputs": [],
   "source": [
    "file_name = \"%s\" % (\"pi_scatter_betweenhost_Bovatus.png\")\n",
    "path = \"%spopgen_stats/%s\" % (config.figure_directory, file_name)\n",
    "fig.savefig(path, bbox_inches = \"tight\", dpi = 300)"
   ]
  },
  {
   "cell_type": "code",
   "execution_count": null,
   "metadata": {},
   "outputs": [],
   "source": []
  }
 ],
 "metadata": {
  "kernelspec": {
   "display_name": "Python 3",
   "language": "python",
   "name": "python3"
  },
  "language_info": {
   "codemirror_mode": {
    "name": "ipython",
    "version": 3
   },
   "file_extension": ".py",
   "mimetype": "text/x-python",
   "name": "python",
   "nbconvert_exporter": "python",
   "pygments_lexer": "ipython3",
   "version": "3.6.13"
  }
 },
 "nbformat": 4,
 "nbformat_minor": 4
}
