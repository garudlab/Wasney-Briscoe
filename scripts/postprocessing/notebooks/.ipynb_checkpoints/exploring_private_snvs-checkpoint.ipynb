{
 "cells": [
  {
   "cell_type": "code",
   "execution_count": 1,
   "metadata": {},
   "outputs": [],
   "source": [
    "import sys\n",
    "sys.path.insert(0, \"/u/home/m/michaelw/project-ngarud/microbiome_evolution/microbiome_evolution_MOUSE/\")\n",
    "\n",
    "import sample_utils\n",
    "import config\n",
    "import parse_midas_data\n",
    "import os.path\n",
    "import pylab\n",
    "import sys\n",
    "import numpy\n",
    "\n",
    "import diversity_utils\n",
    "import gene_diversity_utils\n",
    "\n",
    "import stats_utils\n",
    "from math import log10,ceil\n",
    "from numpy.random import randint\n",
    "\n",
    "import core_gene_utils\n",
    "import gzip"
   ]
  },
  {
   "cell_type": "code",
   "execution_count": 2,
   "metadata": {},
   "outputs": [],
   "source": [
    "private_snv_directory = '%sprivate_snvs/' % (parse_midas_data.data_directory)\n",
    "intermediate_filename_template = '%s%s.txt.gz'  \n",
    "\n",
    "min_coverage = config.min_median_coverage\n",
    "min_sample_size = 6                                         #MW: changed this from 5 to 6, as that's the minimum number of \n",
    "                                                            #samples before the SNV is in a new host. However, we might \n",
    "                                                            #want to consider reducing this.\n",
    "allowed_variant_types = set(['1D','2D','3D','4D'])\n"
   ]
  },
  {
   "cell_type": "code",
   "execution_count": 3,
   "metadata": {},
   "outputs": [],
   "source": [
    "def load_private_snv_map(species_name):\n",
    "# This definition is called whenever another script downstream uses the output of this data.\n",
    "\n",
    "    intermediate_filename = intermediate_filename_template % (private_snv_directory, species_name)\n",
    "\n",
    "    private_snv_map = {}\n",
    "\n",
    "    if not os.path.isfile(intermediate_filename):\n",
    "        return private_snv_map\n",
    "    \n",
    "    file = gzip.open(intermediate_filename,\"r\")\n",
    "    file.readline() # header\n",
    "    for line in file:\n",
    "     \n",
    "        items = line.split(\",\")\n",
    "        \n",
    "        contig = items[0].strip()\n",
    "        location = long(items[1])\n",
    "        gene_name = items[2].strip()\n",
    "        variant_type = items[3].strip()\n",
    "        host = items[4].strip()\n",
    "        \n",
    "        private_snv_map[(contig, location)] = (gene_name, variant_type, host)\n",
    "        \n",
    "    return private_snv_map\n"
   ]
  },
  {
   "cell_type": "code",
   "execution_count": 4,
   "metadata": {},
   "outputs": [],
   "source": [
    "debug = False\n",
    "chunk_size = 1000000000\n",
    "species_name=\"Akkermansia_muciniphila_55290\"\n",
    "good_species_list = [species_name]"
   ]
  },
  {
   "cell_type": "code",
   "execution_count": 5,
   "metadata": {},
   "outputs": [
    {
     "name": "stderr",
     "output_type": "stream",
     "text": [
      "Loading sample metadata...\n",
      "Done!\n"
     ]
    }
   ],
   "source": [
    "# Load subject and sample metadata\n",
    "sys.stderr.write(\"Loading sample metadata...\\n\")\n",
    "subject_sample_map = parse_midas_data.parse_subject_sample_map() #MW: changed this from sample_utils.parse_midas_data() to parse_midas_data.parse_subject_sample_map()\n",
    "sys.stderr.write(\"Done!\\n\")"
   ]
  },
  {
   "cell_type": "code",
   "execution_count": 6,
   "metadata": {},
   "outputs": [],
   "source": [
    "snp_samples = diversity_utils.calculate_haploid_samples(species_name, debug=debug)"
   ]
  },
  {
   "cell_type": "code",
   "execution_count": 7,
   "metadata": {},
   "outputs": [
    {
     "name": "stderr",
     "output_type": "stream",
     "text": [
      "Proceeding with 12 haploid samples!\n"
     ]
    }
   ],
   "source": [
    "sys.stderr.write(\"Proceeding with %d haploid samples!\\n\" % len(snp_samples))"
   ]
  },
  {
   "cell_type": "code",
   "execution_count": 8,
   "metadata": {},
   "outputs": [
    {
     "name": "stderr",
     "output_type": "stream",
     "text": [
      "Done! 0 core genes and 0 shared genes and 2376 non-shared genes\n"
     ]
    }
   ],
   "source": [
    "core_genes = core_gene_utils.parse_core_genes(species_name)\n",
    "non_shared_genes = core_gene_utils.parse_non_shared_reference_genes(species_name)\n",
    "shared_pangenome_genes = core_gene_utils.parse_shared_genes(species_name)\n",
    "sys.stderr.write(\"Done! %d core genes and %d shared genes and %d non-shared genes\\n\" % (len(core_genes), len(shared_pangenome_genes), len(non_shared_genes)))"
   ]
  },
  {
   "cell_type": "code",
   "execution_count": 9,
   "metadata": {},
   "outputs": [],
   "source": [
    "private_snvs = []\n",
    "        \n",
    "final_line_number = 0"
   ]
  },
  {
   "cell_type": "code",
   "execution_count": 10,
   "metadata": {},
   "outputs": [
    {
     "ename": "KeyboardInterrupt",
     "evalue": "",
     "output_type": "error",
     "traceback": [
      "\u001b[0;31m\u001b[0m",
      "\u001b[0;31mKeyboardInterrupt\u001b[0mTraceback (most recent call last)",
      "\u001b[0;32m<ipython-input-10-af36b35d2bb1>\u001b[0m in \u001b[0;36m<module>\u001b[0;34m()\u001b[0m\n\u001b[0;32m----> 1\u001b[0;31m \u001b[0mdummy_samples\u001b[0m\u001b[0;34m,\u001b[0m \u001b[0mallele_counts_map\u001b[0m\u001b[0;34m,\u001b[0m \u001b[0mpassed_sites_map\u001b[0m\u001b[0;34m,\u001b[0m \u001b[0mfinal_line_number\u001b[0m \u001b[0;34m=\u001b[0m \u001b[0mparse_midas_data\u001b[0m\u001b[0;34m.\u001b[0m\u001b[0mparse_snps\u001b[0m\u001b[0;34m(\u001b[0m\u001b[0mspecies_name\u001b[0m\u001b[0;34m,\u001b[0m \u001b[0mdebug\u001b[0m\u001b[0;34m=\u001b[0m\u001b[0mdebug\u001b[0m\u001b[0;34m,\u001b[0m \u001b[0mallowed_samples\u001b[0m\u001b[0;34m=\u001b[0m\u001b[0msnp_samples\u001b[0m\u001b[0;34m,\u001b[0m \u001b[0mchunk_size\u001b[0m\u001b[0;34m=\u001b[0m\u001b[0mchunk_size\u001b[0m\u001b[0;34m,\u001b[0m\u001b[0minitial_line_number\u001b[0m\u001b[0;34m=\u001b[0m\u001b[0mfinal_line_number\u001b[0m\u001b[0;34m,\u001b[0m \u001b[0mallowed_genes\u001b[0m\u001b[0;34m=\u001b[0m\u001b[0mcore_genes\u001b[0m\u001b[0;34m)\u001b[0m\u001b[0;34m\u001b[0m\u001b[0m\n\u001b[0m",
      "\u001b[0;32m/u/home/m/michaelw/project-ngarud/microbiome_evolution/microbiome_evolution_MOUSE/parse_midas_data.pyc\u001b[0m in \u001b[0;36mparse_snps\u001b[0;34m(species_name, debug, allowed_samples, allowed_genes, allowed_variant_types, initial_line_number, chunk_size)\u001b[0m\n\u001b[1;32m    564\u001b[0m         \u001b[0minfo_items\u001b[0m \u001b[0;34m=\u001b[0m \u001b[0mitems\u001b[0m\u001b[0;34m[\u001b[0m\u001b[0;36m0\u001b[0m\u001b[0;34m]\u001b[0m\u001b[0;34m.\u001b[0m\u001b[0msplit\u001b[0m\u001b[0;34m(\u001b[0m\u001b[0;34m\"|\"\u001b[0m\u001b[0;34m)\u001b[0m\u001b[0;34m\u001b[0m\u001b[0m\n\u001b[1;32m    565\u001b[0m         \u001b[0mchromosome\u001b[0m \u001b[0;34m=\u001b[0m \u001b[0minfo_items\u001b[0m\u001b[0;34m[\u001b[0m\u001b[0;36m0\u001b[0m\u001b[0;34m]\u001b[0m\u001b[0;34m\u001b[0m\u001b[0m\n\u001b[0;32m--> 566\u001b[0;31m         \u001b[0mlocation\u001b[0m \u001b[0;34m=\u001b[0m \u001b[0mlong\u001b[0m\u001b[0;34m(\u001b[0m\u001b[0minfo_items\u001b[0m\u001b[0;34m[\u001b[0m\u001b[0;36m1\u001b[0m\u001b[0;34m]\u001b[0m\u001b[0;34m)\u001b[0m\u001b[0;34m\u001b[0m\u001b[0m\n\u001b[0m\u001b[1;32m    567\u001b[0m         \u001b[0mgene_name\u001b[0m \u001b[0;34m=\u001b[0m \u001b[0minfo_items\u001b[0m\u001b[0;34m[\u001b[0m\u001b[0;36m2\u001b[0m\u001b[0;34m]\u001b[0m\u001b[0;34m\u001b[0m\u001b[0m\n\u001b[1;32m    568\u001b[0m         \u001b[0mvariant_type\u001b[0m \u001b[0;34m=\u001b[0m \u001b[0minfo_items\u001b[0m\u001b[0;34m[\u001b[0m\u001b[0;36m3\u001b[0m\u001b[0;34m]\u001b[0m\u001b[0;34m\u001b[0m\u001b[0m\n",
      "\u001b[0;31mKeyboardInterrupt\u001b[0m: "
     ]
    }
   ],
   "source": [
    "dummy_samples, allele_counts_map, passed_sites_map, final_line_number = parse_midas_data.parse_snps(species_name, debug=debug, allowed_samples=snp_samples, chunk_size=chunk_size,initial_line_number=final_line_number, allowed_genes=core_genes)\n"
   ]
  },
  {
   "cell_type": "code",
   "execution_count": null,
   "metadata": {},
   "outputs": [],
   "source": []
  }
 ],
 "metadata": {
  "kernelspec": {
   "display_name": "python27_env",
   "language": "python",
   "name": "python27_env"
  },
  "language_info": {
   "codemirror_mode": {
    "name": "ipython",
    "version": 2
   },
   "file_extension": ".py",
   "mimetype": "text/x-python",
   "name": "python",
   "nbconvert_exporter": "python",
   "pygments_lexer": "ipython2",
   "version": "2.7.18"
  }
 },
 "nbformat": 4,
 "nbformat_minor": 4
}
