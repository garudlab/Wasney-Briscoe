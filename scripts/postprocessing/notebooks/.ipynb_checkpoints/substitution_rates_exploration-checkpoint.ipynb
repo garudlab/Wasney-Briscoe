{
 "cells": [
  {
   "cell_type": "code",
   "execution_count": 1,
   "metadata": {},
   "outputs": [],
   "source": [
    "import sys\n",
    "sys.path.insert(0, \"/u/home/m/michaelw/project-ngarud/microbiome_evolution/microbiome_evolution_MOUSE/\")\n",
    "\n",
    "import sample_utils \n",
    "import config\n",
    "import parse_midas_data\n",
    "import os.path\n",
    "import pylab\n",
    "import numpy\n",
    "\n",
    "import diversity_utils\n",
    "import gene_diversity_utils\n",
    "\n",
    "import stats_utils\n",
    "from math import log10,ceil\n",
    "from numpy.random import randint\n",
    "\n",
    "import core_gene_utils\n",
    "import gzip\n",
    "import os\n"
   ]
  },
  {
   "cell_type": "markdown",
   "metadata": {},
   "source": [
    "# Question 1: what is `sample_utils.calculate_subject_pairs()` not working"
   ]
  },
  {
   "cell_type": "code",
   "execution_count": 2,
   "metadata": {},
   "outputs": [],
   "source": [
    "debug = False\n",
    "chunk_size = 1000000000\n",
    "species_name=\"Akkermansia_muciniphila_55290\"\n",
    "good_species_list = [species_name]"
   ]
  },
  {
   "cell_type": "code",
   "execution_count": 3,
   "metadata": {},
   "outputs": [
    {
     "name": "stderr",
     "output_type": "stream",
     "text": [
      "Loading sample metadata...\n"
     ]
    }
   ],
   "source": [
    "# Load subject and sample metadata\n",
    "sys.stderr.write(\"Loading sample metadata...\\n\")\n",
    "subject_sample_map = parse_midas_data.parse_subject_sample_map()"
   ]
  },
  {
   "cell_type": "code",
   "execution_count": 4,
   "metadata": {},
   "outputs": [],
   "source": [
    "# header for the output file.\n",
    "record_strs = [\", \".join(['Species', 'Sample1', 'Sample2', 'Type', 'Num_muts', 'Num_revs', 'Num_mut_opportunities', 'Num_rev_opportunities'])]"
   ]
  },
  {
   "cell_type": "markdown",
   "metadata": {},
   "source": [
    "### Henceforth, I will enter the `for species in good_species_list:` for loop, as we know it's *Akkermansia_muciniphila_55290*"
   ]
  },
  {
   "cell_type": "code",
   "execution_count": 5,
   "metadata": {},
   "outputs": [
    {
     "name": "stderr",
     "output_type": "stream",
     "text": [
      "Loading haploid samples...\n"
     ]
    }
   ],
   "source": [
    "sys.stderr.write(\"Loading haploid samples...\\n\")\n",
    "\n",
    "# Only plot samples above a certain depth threshold that are confidently phaseable.\n",
    "snp_samples = diversity_utils.calculate_haploid_samples(species_name, debug=debug)"
   ]
  },
  {
   "cell_type": "code",
   "execution_count": 6,
   "metadata": {},
   "outputs": [
    {
     "data": {
      "text/plain": [
       "array(['M8CeCGG', 'M8JGG_2', 'M8IGG_2', 'M7CecGG', 'M8ColonGG_2',\n",
       "       'M7IGG_2', 'TL1gDNAshort', 'M7JGG', 'M7DGG', 'M8D', 'M7ColonGG',\n",
       "       'M1JC_CKDN220050970-1A_H7MMHDSX5_L2',\n",
       "       'M1CeC_CKDN220050952-1A_H7MMHDSX5_L3',\n",
       "       'M1CoC_CKDN220050958-1A_H7MMHDSX5_L2',\n",
       "       'M1IC_CKDN220050976-1A_H7MMHDSX5_L2',\n",
       "       'M1DC_CKDN220050964-1A_H7MMHDSX5_L2',\n",
       "       'M2IC_CKDN220050977-1A_H7MMHDSX5_L2',\n",
       "       'M3CeC_CKDN220050954-1A_H7MMHDSX5_L2',\n",
       "       'M6IG_CKDN220050981-1A_HF3V5DSX5_L1',\n",
       "       'M2CeC_CKDN220050953-1A_merge',\n",
       "       'M2CoC_CKDN220050959-1A_H7MMHDSX5_L2',\n",
       "       'M3CoC_CKDN220050960-1A_H7MMHDSX5_L2',\n",
       "       'M6JG_CKDN220050975-1A_H7MMHDSX5_L2',\n",
       "       'M6CeG_CKDN220050957-1A_H7MMGDSX5_L2',\n",
       "       'M4CoG_CKDN220050961-1A_merge',\n",
       "       'M3JC_CKDN220050972-1A_H7MMHDSX5_L2',\n",
       "       'M6CoG_CKDN220050963-1A_H7MMHDSX5_L2',\n",
       "       'M2JC_CKDN220050971-1A_H7MMHDSX5_L2',\n",
       "       'M5CeG_CKDN220050956-1A_H7MMHDSX5_L2',\n",
       "       'M5CoG_CKDN220050962-1A_merge',\n",
       "       'M4CeG_CKDN220050955-1A_H7MMHDSX5_L2',\n",
       "       'M5IG_CKDN220050980-1A_HF3V5DSX5_L1',\n",
       "       'M4IG_CKDN220050979-1A_H7MMHDSX5_L2',\n",
       "       'M4DG_CKDN220050967-1A_H7MMHDSX5_L3',\n",
       "       'M4JG_CKDN220050973-1A_merge', 'M5JG_CKDN220050974-1A_merge',\n",
       "       'M5DG_CKDN220050968-1A_merge',\n",
       "       'M3DC_CKDN220050966-1A_H7MMHDSX5_L2',\n",
       "       'M6DG_CKDN220050969-1A_H7MMGDSX5_L1'], dtype='|S35')"
      ]
     },
     "execution_count": 6,
     "metadata": {},
     "output_type": "execute_result"
    }
   ],
   "source": [
    "snp_samples"
   ]
  },
  {
   "cell_type": "code",
   "execution_count": 7,
   "metadata": {},
   "outputs": [
    {
     "name": "stderr",
     "output_type": "stream",
     "text": [
      "Proceeding with 39 haploid samples!\n",
      "Loading core genes...\n",
      "Done! Core genome consists of 1505 genes\n",
      "476 shared genes and 2106 non-shared genes\n"
     ]
    }
   ],
   "source": [
    "sys.stderr.write(\"Proceeding with %d haploid samples!\\n\" % len(snp_samples))\n",
    "\n",
    "sys.stderr.write(\"Loading core genes...\\n\")\n",
    "core_genes = core_gene_utils.parse_core_genes(species_name)\n",
    "non_shared_genes = core_gene_utils.parse_non_shared_reference_genes(species_name)\n",
    "shared_pangenome_genes = core_gene_utils.parse_shared_genes(species_name)\n",
    "sys.stderr.write(\"Done! Core genome consists of %d genes\\n\" % len(core_genes))\n",
    "sys.stderr.write(\"%d shared genes and %d non-shared genes\\n\" % (len(shared_pangenome_genes), len(non_shared_genes)))"
   ]
  },
  {
   "cell_type": "code",
   "execution_count": 8,
   "metadata": {},
   "outputs": [
    {
     "name": "stderr",
     "output_type": "stream",
     "text": [
      "Loading SNPs for Akkermansia_muciniphila_55290...\n",
      "(core genes only...)\n"
     ]
    }
   ],
   "source": [
    "# Load SNP information for species_name\n",
    "sys.stderr.write(\"Loading SNPs for %s...\\n\" % species_name)\n",
    "sys.stderr.write(\"(core genes only...)\\n\")\n",
    "pi_matrix_syn = numpy.array([])\n",
    "avg_pi_matrix_syn = numpy.array([])\n",
    "\n",
    "syn_mut_difference_matrix = numpy.array([]) # 4d sites in core genes\n",
    "syn_mut_opportunity_matrix = numpy.array([])\n",
    "syn_rev_difference_matrix = numpy.array([]) # 4d sites in core genes\n",
    "syn_rev_opportunity_matrix = numpy.array([])\n",
    "\n",
    "non_mut_difference_matrix = numpy.array([]) # 1d sites in core genes\n",
    "non_mut_opportunity_matrix = numpy.array([])\n",
    "non_rev_difference_matrix = numpy.array([]) # 1d sites in core genes\n",
    "non_rev_opportunity_matrix = numpy.array([])\n",
    "\n",
    "core_mut_difference_matrix = numpy.array([]) # all sites in core genes\n",
    "core_mut_opportunity_matrix = numpy.array([])\n",
    "core_rev_difference_matrix = numpy.array([]) # all sites in core genes\n",
    "core_rev_opportunity_matrix = numpy.array([])\n",
    "\n",
    "snp_mut_difference_matrix = numpy.array([]) # all sites in all genes\n",
    "snp_mut_opportunity_matrix = numpy.array([])\n",
    "snp_rev_difference_matrix = numpy.array([]) # all sites in all genes\n",
    "snp_rev_opportunity_matrix = numpy.array([])"
   ]
  },
  {
   "cell_type": "markdown",
   "metadata": {},
   "source": [
    "### Skipping the while loop, because it should exit after one loop (the ouput of the first line is -1)"
   ]
  },
  {
   "cell_type": "code",
   "execution_count": 9,
   "metadata": {},
   "outputs": [],
   "source": [
    "final_line_number = 0\n",
    "#while final_line_number >= 0:\n"
   ]
  },
  {
   "cell_type": "code",
   "execution_count": 10,
   "metadata": {},
   "outputs": [
    {
     "name": "stderr",
     "output_type": "stream",
     "text": [
      "1k sites processed...\n",
      "2k sites processed...\n",
      "3k sites processed...\n"
     ]
    }
   ],
   "source": [
    "dummy_samples, allele_counts_map, passed_sites_map, final_line_number = parse_midas_data.parse_snps(species_name, debug=debug, allowed_samples=snp_samples, chunk_size=chunk_size,allowed_genes=non_shared_genes, initial_line_number=final_line_number)\n",
    "\n",
    "\n",
    "\n"
   ]
  },
  {
   "cell_type": "code",
   "execution_count": 11,
   "metadata": {},
   "outputs": [
    {
     "name": "stderr",
     "output_type": "stream",
     "text": [
      "Calculating matrix of snp differences...\n"
     ]
    }
   ],
   "source": [
    "sys.stderr.write(\"Calculating matrix of snp differences...\\n\")\n",
    "# Synonymous (4D)\n",
    "\n",
    "chunk_syn_mut_difference_matrix, chunk_syn_rev_difference_matrix, chunk_syn_mut_opportunity_matrix, chunk_syn_rev_opportunity_matrix = diversity_utils.calculate_mutation_reversion_matrix(allele_counts_map, passed_sites_map, allowed_genes=core_genes, allowed_variant_types=set(['4D']))"
   ]
  },
  {
   "cell_type": "code",
   "execution_count": 12,
   "metadata": {},
   "outputs": [],
   "source": [
    "# Nonsynonymous (1D) \n",
    "chunk_non_mut_difference_matrix, chunk_non_rev_difference_matrix, chunk_non_mut_opportunity_matrix, chunk_non_rev_opportunity_matrix = diversity_utils.calculate_mutation_reversion_matrix(allele_counts_map, passed_sites_map, allowed_genes=core_genes, allowed_variant_types=set(['1D']))\n"
   ]
  },
  {
   "cell_type": "code",
   "execution_count": 13,
   "metadata": {},
   "outputs": [],
   "source": [
    "# Core (all)\n",
    "chunk_core_mut_difference_matrix, chunk_core_rev_difference_matrix, chunk_core_mut_opportunity_matrix, chunk_core_rev_opportunity_matrix = diversity_utils.calculate_mutation_reversion_matrix(allele_counts_map, passed_sites_map, allowed_genes=core_genes)"
   ]
  },
  {
   "cell_type": "code",
   "execution_count": 14,
   "metadata": {},
   "outputs": [],
   "source": [
    "# All\n",
    "chunk_snp_mut_difference_matrix, chunk_snp_rev_difference_matrix, chunk_snp_mut_opportunity_matrix, chunk_snp_rev_opportunity_matrix = diversity_utils.calculate_mutation_reversion_matrix(allele_counts_map, passed_sites_map, allowed_genes=non_shared_genes)\n"
   ]
  },
  {
   "cell_type": "code",
   "execution_count": 15,
   "metadata": {},
   "outputs": [],
   "source": [
    "if snp_mut_difference_matrix.shape[0]==0:\n",
    "    snp_mut_difference_matrix = numpy.zeros_like(chunk_snp_mut_difference_matrix)*1.0\n",
    "    snp_mut_opportunity_matrix = numpy.zeros_like(snp_mut_difference_matrix)*1.0\n",
    "    snp_rev_difference_matrix = numpy.zeros_like(snp_mut_difference_matrix)*1.0\n",
    "    snp_rev_opportunity_matrix = numpy.zeros_like(snp_mut_difference_matrix)*1.0\n",
    "\n",
    "    syn_mut_difference_matrix = numpy.zeros_like(snp_mut_difference_matrix)*1.0\n",
    "    syn_mut_opportunity_matrix = numpy.zeros_like(snp_mut_difference_matrix)*1.0\n",
    "    syn_rev_difference_matrix = numpy.zeros_like(snp_mut_difference_matrix)*1.0\n",
    "    syn_rev_opportunity_matrix = numpy.zeros_like(snp_mut_difference_matrix)*1.0\n",
    "\n",
    "    non_mut_difference_matrix = numpy.zeros_like(snp_mut_difference_matrix)*1.0\n",
    "    non_mut_opportunity_matrix = numpy.zeros_like(snp_mut_difference_matrix)*1.0\n",
    "    non_rev_difference_matrix = numpy.zeros_like(snp_mut_difference_matrix)*1.0\n",
    "    non_rev_opportunity_matrix = numpy.zeros_like(snp_mut_difference_matrix)*1.0\n",
    "\n",
    "    core_mut_difference_matrix = numpy.zeros_like(snp_mut_difference_matrix)*1.0\n",
    "    core_mut_opportunity_matrix = numpy.zeros_like(snp_mut_difference_matrix)*1.0\n",
    "    core_rev_difference_matrix = numpy.zeros_like(snp_mut_difference_matrix)*1.0\n",
    "    core_rev_opportunity_matrix = numpy.zeros_like(snp_mut_difference_matrix)*1.0"
   ]
  },
  {
   "cell_type": "code",
   "execution_count": 16,
   "metadata": {},
   "outputs": [],
   "source": [
    "# Add syn\n",
    "syn_mut_difference_matrix += chunk_syn_mut_difference_matrix\n",
    "syn_mut_opportunity_matrix += chunk_syn_mut_opportunity_matrix\n",
    "syn_rev_difference_matrix += chunk_syn_rev_difference_matrix\n",
    "syn_rev_opportunity_matrix += chunk_syn_rev_opportunity_matrix\n",
    "\n",
    "# Add non\n",
    "non_mut_difference_matrix += chunk_non_mut_difference_matrix\n",
    "non_mut_opportunity_matrix += chunk_non_mut_opportunity_matrix\n",
    "non_rev_difference_matrix += chunk_non_rev_difference_matrix\n",
    "non_rev_opportunity_matrix += chunk_non_rev_opportunity_matrix\n",
    "\n",
    "# Add core\n",
    "core_mut_difference_matrix += chunk_core_mut_difference_matrix\n",
    "core_mut_opportunity_matrix += chunk_core_mut_opportunity_matrix\n",
    "core_rev_difference_matrix += chunk_core_rev_difference_matrix\n",
    "core_rev_opportunity_matrix += chunk_core_rev_opportunity_matrix\n",
    "\n",
    "# Add all\n",
    "snp_mut_difference_matrix += chunk_snp_mut_difference_matrix\n",
    "snp_mut_opportunity_matrix += chunk_snp_mut_opportunity_matrix\n",
    "snp_rev_difference_matrix += chunk_snp_rev_difference_matrix\n",
    "snp_rev_opportunity_matrix += chunk_snp_rev_opportunity_matrix\n",
    "\n",
    "snp_samples = dummy_samples"
   ]
  },
  {
   "cell_type": "code",
   "execution_count": 17,
   "metadata": {},
   "outputs": [
    {
     "name": "stderr",
     "output_type": "stream",
     "text": [
      "Loading pangenome data for Akkermansia_muciniphila_55290...\n",
      "Done! Loaded 2437 genes\n"
     ]
    }
   ],
   "source": [
    "# Now calculate gene differences\n",
    "# Load gene coverage information for species_name\n",
    "sys.stderr.write(\"Loading pangenome data for %s...\\n\" % species_name)\n",
    "gene_samples, gene_names, gene_presence_matrix, gene_depth_matrix, marker_coverages,     gene_reads_matrix = parse_midas_data.parse_pangenome_data(species_name,allowed_samples=snp_samples, disallowed_genes=shared_pangenome_genes)\n",
    "sys.stderr.write(\"Done! Loaded %d genes\\n\" % len(gene_names))"
   ]
  },
  {
   "cell_type": "code",
   "execution_count": 18,
   "metadata": {},
   "outputs": [],
   "source": [
    "gene_sample_list = list(gene_samples)\n",
    "gene_sample_set = set(gene_samples)\n"
   ]
  },
  {
   "cell_type": "code",
   "execution_count": 19,
   "metadata": {},
   "outputs": [
    {
     "name": "stderr",
     "output_type": "stream",
     "text": [
      "Calculating matrix of gene differences...\n"
     ]
    }
   ],
   "source": [
    "# Calculate matrix of number of genes that differ\n",
    "sys.stderr.write(\"Calculating matrix of gene differences...\\n\")\n",
    "\n",
    "gene_gain_matrix, gene_loss_matrix, gene_opportunity_matrix = gene_diversity_utils.calculate_coverage_based_gene_hamming_matrix_gain_loss(gene_reads_matrix, gene_depth_matrix, marker_coverages)\n",
    "\n",
    "\n"
   ]
  },
  {
   "cell_type": "code",
   "execution_count": 20,
   "metadata": {},
   "outputs": [],
   "source": [
    "min_coverage = config.min_median_coverage\n",
    "good_marker_coverages = (marker_coverages>=min_coverage)"
   ]
  },
  {
   "cell_type": "code",
   "execution_count": 21,
   "metadata": {},
   "outputs": [
    {
     "data": {
      "text/plain": [
       "array([ True,  True,  True,  True,  True,  True,  True,  True,  True,\n",
       "        True,  True,  True,  True,  True,  True,  True,  True,  True,\n",
       "        True,  True,  True,  True,  True,  True,  True,  True,  True,\n",
       "        True,  True,  True,  True,  True,  True,  True,  True,  True,\n",
       "        True,  True,  True])"
      ]
     },
     "execution_count": 21,
     "metadata": {},
     "output_type": "execute_result"
    }
   ],
   "source": [
    "good_marker_coverages"
   ]
  },
  {
   "cell_type": "code",
   "execution_count": 22,
   "metadata": {},
   "outputs": [],
   "source": [
    "gene_gain_matrix = gene_gain_matrix*good_marker_coverages[:,None]*good_marker_coverages[None,:]\n",
    "gene_loss_matrix = gene_loss_matrix*good_marker_coverages[:,None]*good_marker_coverages[None,:]\n",
    "gene_opportunity_matrix = gene_opportunity_matrix*good_marker_coverages[:,None]*good_marker_coverages[None,:]"
   ]
  },
  {
   "cell_type": "code",
   "execution_count": 23,
   "metadata": {},
   "outputs": [],
   "source": [
    "# Add records to output\n",
    "# Calculate which pairs of idxs belong to the same sample, which to the same subject\n",
    "# and which to different subjects\n",
    "same_sample_idxs, same_subject_idxs, diff_subject_idxs = sample_utils.calculate_subject_pairs(subject_sample_map, snp_samples)\n",
    "\n"
   ]
  },
  {
   "cell_type": "markdown",
   "metadata": {},
   "source": [
    "### Addendum... what the hell is going on in `sample_utils.calculate_subject_pairs()`???"
   ]
  },
  {
   "cell_type": "code",
   "execution_count": 24,
   "metadata": {},
   "outputs": [],
   "source": [
    "# def calculate_subject_pairs(subject_sample_map, sample_list=[]):\n",
    "\n",
    "#     if len(sample_list)==0:\n",
    "#         sample_list = list(sorted(flatten_samples(subject_sample_map).keys()))\n",
    "    \n",
    "#     new_sample_list = []\n",
    "#     for sample in sample_list:\n",
    "#         if sample.endswith('c'):\n",
    "#             new_sample_list.append(sample[:-1])\n",
    "#         else: \n",
    "#             new_sample_list.append(sample)\n",
    "    \n",
    "#     sample_list = new_sample_list\n",
    "    \n",
    "#     # invert subject sample map\n",
    "#     sample_subject_map = {}\n",
    "#     for subject in subject_sample_map.keys():\n",
    "#         for sample in subject_sample_map[subject].keys():\n",
    "#             sample_subject_map[sample] = subject\n",
    "    \n",
    "#     same_sample_idx_lower = []\n",
    "#     same_sample_idx_upper = []\n",
    "#     same_subject_idx_lower = []\n",
    "#     same_subject_idx_upper = []\n",
    "#     diff_subject_idx_lower = []\n",
    "#     diff_subject_idx_upper = []\n",
    "        \n",
    "#     for i in xrange(0,len(sample_list)):\n",
    "#         same_sample_idx_lower.append(i)\n",
    "#         same_sample_idx_upper.append(i)\n",
    "#         for j in xrange(0,i):\n",
    "#             if sample_subject_map[sample_list[i]]==sample_subject_map[sample_list[j]]:\n",
    "#                 same_subject_idx_lower.append(i)\n",
    "#                 same_subject_idx_upper.append(j)\n",
    "#             else: \n",
    "#                 diff_subject_idx_lower.append(i)\n",
    "#                 diff_subject_idx_upper.append(j)\n",
    "    \n",
    "#     same_sample_idxs = (numpy.array(same_sample_idx_lower,dtype=numpy.int32), numpy.array(same_sample_idx_upper,dtype=numpy.int32))\n",
    "    \n",
    "#     same_subject_idxs = (numpy.array(same_subject_idx_lower,dtype=numpy.int32), numpy.array(same_subject_idx_upper,dtype=numpy.int32))\n",
    "    \n",
    "#     diff_subject_idxs = (numpy.array(diff_subject_idx_lower,dtype=numpy.int32), numpy.array(diff_subject_idx_upper,dtype=numpy.int32))\n",
    "    \n",
    "#     return same_sample_idxs, same_subject_idxs, diff_subject_idxs"
   ]
  },
  {
   "cell_type": "code",
   "execution_count": 25,
   "metadata": {},
   "outputs": [],
   "source": [
    "subject_sample_map = subject_sample_map\n",
    "sample_list = snp_samples"
   ]
  },
  {
   "cell_type": "code",
   "execution_count": 26,
   "metadata": {},
   "outputs": [],
   "source": [
    "# invert subject sample map\n",
    "sample_subject_map = {}\n",
    "for subject in subject_sample_map.keys():\n",
    "    for sample in subject_sample_map[subject].keys():\n",
    "        accession = list(subject_sample_map[subject][sample])[0] #MW: added this because the accessions and sample_ids were not the same. \n",
    "        sample_subject_map[accession] = subject                  #Prior to this, code was sample_subject_map[sample] = subject instead of \n",
    "                                                                 # sample_subject_map[accession] = subject\n",
    "            "
   ]
  },
  {
   "cell_type": "code",
   "execution_count": 27,
   "metadata": {},
   "outputs": [
    {
     "data": {
      "text/plain": [
       "{'M1CeC_CKDN220050952-1A_H7MMHDSX5_L3': '1',\n",
       " 'M1CoC_CKDN220050958-1A_H7MMHDSX5_L2': '1',\n",
       " 'M1DC_CKDN220050964-1A_H7MMHDSX5_L2': '1',\n",
       " 'M1IC_CKDN220050976-1A_H7MMHDSX5_L2': '1',\n",
       " 'M1JC_CKDN220050970-1A_H7MMHDSX5_L2': '1',\n",
       " 'M2CeC_CKDN220050953-1A_merge': '2',\n",
       " 'M2CoC_CKDN220050959-1A_H7MMHDSX5_L2': '2',\n",
       " 'M2DC_CKDN220050965-1A_H7MMHDSX5_L2': '2',\n",
       " 'M2IC_CKDN220050977-1A_H7MMHDSX5_L2': '2',\n",
       " 'M2JC_CKDN220050971-1A_H7MMHDSX5_L2': '2',\n",
       " 'M3CeC_CKDN220050954-1A_H7MMHDSX5_L2': '3',\n",
       " 'M3CoC_CKDN220050960-1A_H7MMHDSX5_L2': '3',\n",
       " 'M3DC_CKDN220050966-1A_H7MMHDSX5_L2': '3',\n",
       " 'M3IC_CKDN220050978-1A_H7MMHDSX5_L2': '3',\n",
       " 'M3JC_CKDN220050972-1A_H7MMHDSX5_L2': '3',\n",
       " 'M4CeG_CKDN220050955-1A_H7MMHDSX5_L2': '4',\n",
       " 'M4CoG_CKDN220050961-1A_merge': '4',\n",
       " 'M4DG_CKDN220050967-1A_H7MMHDSX5_L3': '4',\n",
       " 'M4IG_CKDN220050979-1A_H7MMHDSX5_L2': '4',\n",
       " 'M4JG_CKDN220050973-1A_merge': '4',\n",
       " 'M5CeG_CKDN220050956-1A_H7MMHDSX5_L2': '5',\n",
       " 'M5CoG_CKDN220050962-1A_merge': '5',\n",
       " 'M5DG_CKDN220050968-1A_merge': '5',\n",
       " 'M5IG_CKDN220050980-1A_HF3V5DSX5_L1': '5',\n",
       " 'M5JG_CKDN220050974-1A_merge': '5',\n",
       " 'M6CeG_CKDN220050957-1A_H7MMGDSX5_L2': '6',\n",
       " 'M6CoG_CKDN220050963-1A_H7MMHDSX5_L2': '6',\n",
       " 'M6DG_CKDN220050969-1A_H7MMGDSX5_L1': '6',\n",
       " 'M6IG_CKDN220050981-1A_HF3V5DSX5_L1': '6',\n",
       " 'M6JG_CKDN220050975-1A_H7MMHDSX5_L2': '6',\n",
       " 'M7CecGG': '7',\n",
       " 'M7ColonGG': '7',\n",
       " 'M7DGG': '7',\n",
       " 'M7IGG_2': '7',\n",
       " 'M7JGG': '7',\n",
       " 'M8CeCGG': '8',\n",
       " 'M8ColonGG_2': '8',\n",
       " 'M8D': '8',\n",
       " 'M8IGG_2': '8',\n",
       " 'M8JGG_2': '8',\n",
       " 'TL1gDNAshort': '0'}"
      ]
     },
     "execution_count": 27,
     "metadata": {},
     "output_type": "execute_result"
    }
   ],
   "source": [
    "sample_subject_map"
   ]
  },
  {
   "cell_type": "code",
   "execution_count": null,
   "metadata": {},
   "outputs": [],
   "source": [
    "#The offending code:\n",
    "for i in xrange(0,len(sample_list)):\n",
    "    sample = sample_list[i]\n",
    "    #         if sample.endswith('c'):                     #MW: I commented this out because it's specific to HMP data\n",
    "    #             sample = sample[:-1]\n",
    "    subject = sample_subject_map[sample]\n",
    "    if not subject in subject_idx_map:\n",
    "        subject_idx_map[subject] = i"
   ]
  },
  {
   "cell_type": "code",
   "execution_count": 43,
   "metadata": {},
   "outputs": [],
   "source": [
    "subject_idx_map = {}"
   ]
  },
  {
   "cell_type": "code",
   "execution_count": 39,
   "metadata": {},
   "outputs": [],
   "source": [
    "i = 0"
   ]
  },
  {
   "cell_type": "code",
   "execution_count": 40,
   "metadata": {},
   "outputs": [],
   "source": [
    "sample = sample_list[i]"
   ]
  },
  {
   "cell_type": "code",
   "execution_count": 41,
   "metadata": {},
   "outputs": [],
   "source": [
    "subject = sample_subject_map[sample]"
   ]
  },
  {
   "cell_type": "code",
   "execution_count": 44,
   "metadata": {},
   "outputs": [],
   "source": [
    "if not subject in subject_idx_map:\n",
    "    subject_idx_map[subject] = i"
   ]
  },
  {
   "cell_type": "code",
   "execution_count": 45,
   "metadata": {},
   "outputs": [
    {
     "data": {
      "text/plain": [
       "{'8': 0}"
      ]
     },
     "execution_count": 45,
     "metadata": {},
     "output_type": "execute_result"
    }
   ],
   "source": [
    "subject_idx_map"
   ]
  },
  {
   "cell_type": "code",
   "execution_count": 46,
   "metadata": {},
   "outputs": [],
   "source": [
    "subject_idx_map = {}\n",
    "\n",
    "for i in xrange(0,len(sample_list)):\n",
    "    sample = sample_list[i]\n",
    "#         if sample.endswith('c'):                     #MW: I commented this out because it's specific to HMP data\n",
    "#             sample = sample[:-1]\n",
    "    subject = sample_subject_map[sample]\n",
    "    if not subject in subject_idx_map:\n",
    "        subject_idx_map[subject] = i"
   ]
  },
  {
   "cell_type": "code",
   "execution_count": 47,
   "metadata": {},
   "outputs": [
    {
     "data": {
      "text/plain": [
       "{'0': 6, '1': 11, '2': 16, '3': 17, '4': 24, '5': 28, '6': 18, '7': 3, '8': 0}"
      ]
     },
     "execution_count": 47,
     "metadata": {},
     "output_type": "execute_result"
    }
   ],
   "source": [
    "subject_idx_map"
   ]
  },
  {
   "cell_type": "code",
   "execution_count": 34,
   "metadata": {},
   "outputs": [],
   "source": [
    "def calculate_unique_samples(subject_sample_map, sample_list=[]):\n",
    "\n",
    "    if len(sample_list)==0:\n",
    "        sample_list = list(sorted(flatten_samples(subject_sample_map).keys()))\n",
    "    \n",
    "    # invert subject sample map\n",
    "    sample_subject_map = {}\n",
    "    for subject in subject_sample_map.keys():\n",
    "        for sample in subject_sample_map[subject].keys():\n",
    "            accession = list(subject_sample_map[subject][sample])[0] #MW: added this because the accessions and sample_ids are not the same. \n",
    "            sample_subject_map[accession] = subject                  #Prior to this, code was sample_subject_map[sample] = subject instead of \n",
    "                                                                     # sample_subject_map[accession] = subject\n",
    "    \n",
    "    subject_idx_map = {}\n",
    "        \n",
    "    for i in xrange(0,len(sample_list)):\n",
    "        sample = sample_list[i]\n",
    "#         if sample.endswith('c'):                     #MW: I commented this out because it's specific to HMP data\n",
    "#             sample = sample[:-1]\n",
    "        subject = sample_subject_map[sample]\n",
    "        if not subject in subject_idx_map:\n",
    "            subject_idx_map[subject] = i\n",
    "            \n",
    "    unique_idxs = numpy.zeros(len(sample_list),dtype=numpy.bool_)\n",
    "    for i in subject_idx_map.values():\n",
    "        unique_idxs[i]=True\n",
    "    \n",
    "    return unique_idxs\n",
    "    "
   ]
  },
  {
   "cell_type": "code",
   "execution_count": 38,
   "metadata": {},
   "outputs": [
    {
     "data": {
      "text/plain": [
       "array([ True, False, False,  True, False, False,  True, False, False,\n",
       "       False, False,  True, False, False, False, False,  True,  True,\n",
       "        True, False, False, False, False, False,  True, False, False,\n",
       "       False,  True, False, False, False, False, False, False, False,\n",
       "       False, False, False])"
      ]
     },
     "execution_count": 38,
     "metadata": {},
     "output_type": "execute_result"
    }
   ],
   "source": [
    "calculate_unique_samples(subject_sample_map, sample_list)"
   ]
  }
 ],
 "metadata": {
  "kernelspec": {
   "display_name": "python27_env",
   "language": "python",
   "name": "python27_env"
  },
  "language_info": {
   "codemirror_mode": {
    "name": "ipython",
    "version": 2
   },
   "file_extension": ".py",
   "mimetype": "text/x-python",
   "name": "python",
   "nbconvert_exporter": "python",
   "pygments_lexer": "ipython2",
   "version": "2.7.18"
  }
 },
 "nbformat": 4,
 "nbformat_minor": 4
}
