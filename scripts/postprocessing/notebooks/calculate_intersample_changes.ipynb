{
 "cells": [
  {
   "cell_type": "code",
   "execution_count": 1,
   "metadata": {},
   "outputs": [],
   "source": [
    "import sys\n",
    "sys.path.insert(0, \"/u/home/m/michaelw/project-ngarud/microbiome_evolution/microbiome_evolution_MOUSE/\")\n",
    "\n",
    "import matplotlib  \n",
    "matplotlib.use('Agg') \n",
    "import sample_utils\n",
    "import config\n",
    "import parse_midas_data\n",
    "import os.path\n",
    "import pylab\n",
    "import sys\n",
    "import numpy\n",
    "import sfs_utils\n",
    "        \n",
    "\n",
    "import diversity_utils\n",
    "import gene_diversity_utils\n",
    "import core_gene_utils\n",
    "import gzip\n",
    "import os\n",
    "\n",
    "import stats_utils\n",
    "from math import log10,ceil,factorial\n",
    "from numpy.random import randint"
   ]
  },
  {
   "cell_type": "markdown",
   "metadata": {},
   "source": [
    "### parameters"
   ]
  },
  {
   "cell_type": "code",
   "execution_count": 2,
   "metadata": {},
   "outputs": [],
   "source": [
    "intersample_change_directory = '%sintersample_change/' % (parse_midas_data.data_directory)\n",
    "intermediate_filename_template = '%s%s.txt.gz'  \n",
    "\n",
    "min_coverage = config.min_median_coverage\n",
    "min_sample_size = 2"
   ]
  },
  {
   "cell_type": "markdown",
   "metadata": {},
   "source": [
    "### main script\n",
    "\n",
    "`if __name__=='__main__':`"
   ]
  },
  {
   "cell_type": "code",
   "execution_count": 3,
   "metadata": {},
   "outputs": [],
   "source": [
    "# import argparse\n",
    "# parser = argparse.ArgumentParser()\n",
    "# parser.add_argument(\"--debug\", help=\"Loads only a subset of SNPs for speed\", action=\"store_true\")\n",
    "# parser.add_argument(\"--chunk-size\", type=int, help=\"max number of records to load\", default=1000000000)\n",
    "# parser.add_argument(\"species\", help=\"Name of specific species to run code on\")\n",
    "\n",
    "# args = parser.parse_args()\n",
    "\n",
    "debug = False\n",
    "chunk_size = 1000000000\n",
    "species_name= \"Parabacteroides_distasonis_56985\"\n",
    "good_species_list = [species_name]"
   ]
  },
  {
   "cell_type": "code",
   "execution_count": 4,
   "metadata": {},
   "outputs": [
    {
     "data": {
      "text/plain": [
       "0"
      ]
     },
     "execution_count": 4,
     "metadata": {},
     "output_type": "execute_result"
    }
   ],
   "source": [
    "os.system('mkdir -p %s' % intersample_change_directory)"
   ]
  },
  {
   "cell_type": "code",
   "execution_count": 5,
   "metadata": {},
   "outputs": [
    {
     "name": "stderr",
     "output_type": "stream",
     "text": [
      "Loading sample metadata...\n",
      "Done!\n"
     ]
    }
   ],
   "source": [
    "# Load subject and sample metadata\n",
    "sys.stderr.write(\"Loading sample metadata...\\n\")\n",
    "subject_sample_map = sample_utils.parse_subject_sample_map()\n",
    "sample_order_map = sample_utils.parse_sample_order_map()\n",
    "sys.stderr.write(\"Done!\\n\")"
   ]
  },
  {
   "cell_type": "code",
   "execution_count": 6,
   "metadata": {},
   "outputs": [],
   "source": [
    "intermediate_filename = intermediate_filename_template % (intersample_change_directory, species_name)"
   ]
  },
  {
   "cell_type": "code",
   "execution_count": 7,
   "metadata": {},
   "outputs": [],
   "source": [
    "output_file = gzip.open(intermediate_filename,\"w\")"
   ]
  },
  {
   "cell_type": "code",
   "execution_count": 8,
   "metadata": {},
   "outputs": [
    {
     "data": {
      "text/plain": [
       "1"
      ]
     },
     "execution_count": 8,
     "metadata": {},
     "output_type": "execute_result"
    }
   ],
   "source": [
    "#header\n",
    "output_file.write(\", \".join(['Species', 'Sample1', 'Sample2', 'Type', 'L','Perr', 'Change1', '...']))\n",
    "output_file.write(\"\\n\")"
   ]
  },
  {
   "cell_type": "code",
   "execution_count": 9,
   "metadata": {},
   "outputs": [],
   "source": [
    "#for species_name in good_species_list:\n",
    "sample_coverage_map = parse_midas_data.parse_sample_coverage_map(species_name)"
   ]
  },
  {
   "cell_type": "code",
   "execution_count": 10,
   "metadata": {},
   "outputs": [
    {
     "name": "stderr",
     "output_type": "stream",
     "text": [
      "Loading SFSs for Parabacteroides_distasonis_56985...\tDone!\n"
     ]
    }
   ],
   "source": [
    "sys.stderr.write(\"Loading SFSs for %s...\\t\" % species_name)\n",
    "samples, sfs_map = parse_midas_data.parse_within_sample_sfs(species_name, allowed_variant_types=set(['1D','2D','3D','4D'])) \n",
    "sys.stderr.write(\"Done!\\n\")"
   ]
  },
  {
   "cell_type": "code",
   "execution_count": 11,
   "metadata": {},
   "outputs": [
    {
     "name": "stderr",
     "output_type": "stream",
     "text": [
      "Loading desired samples...\n"
     ]
    }
   ],
   "source": [
    "sys.stderr.write(\"Loading desired samples...\\n\")\n",
    "snp_samples = diversity_utils.calculate_highcoverage_samples(species_name, min_coverage)\n",
    "#NOTE: I lowkey think I should change this to calculate haploid samples, which does use calculate_highcoverage_samples"
   ]
  },
  {
   "cell_type": "code",
   "execution_count": 12,
   "metadata": {},
   "outputs": [],
   "source": [
    "# if len(snp_samples) < min_sample_size:\n",
    "#     sys.stderr.write(\"Not enough temporal samples!\\n\")\n",
    "#     continue"
   ]
  },
  {
   "cell_type": "code",
   "execution_count": 13,
   "metadata": {},
   "outputs": [
    {
     "name": "stderr",
     "output_type": "stream",
     "text": [
      "Proceeding with 210 comparisons of 21 temporal samples!\n"
     ]
    }
   ],
   "source": [
    "n_comb = factorial(len(snp_samples)) / (factorial(2) * factorial(len(snp_samples) - 2))\n",
    "sys.stderr.write(\"Proceeding with %d comparisons of %d temporal samples!\\n\" % (n_comb, len(snp_samples)))\n",
    "                 "
   ]
  },
  {
   "cell_type": "code",
   "execution_count": 14,
   "metadata": {},
   "outputs": [
    {
     "name": "stderr",
     "output_type": "stream",
     "text": [
      "Loading whitelisted genes...\n",
      "Done! 4076 shared genes and 3894 non-shared genes\n"
     ]
    }
   ],
   "source": [
    "# Analyze SNPs, looping over chunk sizes. \n",
    "# Clunky, but necessary to limit memory usage on cluster\n",
    "\n",
    "sys.stderr.write(\"Loading whitelisted genes...\\n\")\n",
    "non_shared_genes = core_gene_utils.parse_non_shared_reference_genes(species_name)\n",
    "shared_pangenome_genes = core_gene_utils.parse_shared_genes(species_name)\n",
    "sys.stderr.write(\"Done! %d shared genes and %d non-shared genes\\n\" % (len(shared_pangenome_genes), len(non_shared_genes)))\n"
   ]
  },
  {
   "cell_type": "code",
   "execution_count": 15,
   "metadata": {},
   "outputs": [
    {
     "name": "stderr",
     "output_type": "stream",
     "text": [
      "Loading pangenome data for Parabacteroides_distasonis_56985...\n",
      "Done!\n"
     ]
    }
   ],
   "source": [
    "# Now calculate gene differences\n",
    "# Load gene coverage information for species_name\n",
    "sys.stderr.write(\"Loading pangenome data for %s...\\n\" % species_name)\n",
    "gene_samples, gene_names, gene_presence_matrix, gene_depth_matrix, marker_coverages, gene_reads_matrix = parse_midas_data.parse_pangenome_data(species_name,allowed_samples=snp_samples, disallowed_genes=shared_pangenome_genes)\n",
    "sys.stderr.write(\"Done!\\n\")"
   ]
  },
  {
   "cell_type": "code",
   "execution_count": 16,
   "metadata": {},
   "outputs": [],
   "source": [
    "snp_samples = gene_samples #adds any samples in the genes dataframe. Thus, all samples comprise those with > 20 median read coverage and those present in the gene dataframe\n",
    "\n"
   ]
  },
  {
   "cell_type": "code",
   "execution_count": 17,
   "metadata": {},
   "outputs": [],
   "source": [
    "# if len(snp_samples) < min_sample_size:\n",
    "#     sys.stderr.write(\"Not enough temporal samples!\\n\")\n",
    "#     continue\n"
   ]
  },
  {
   "cell_type": "code",
   "execution_count": 18,
   "metadata": {},
   "outputs": [],
   "source": [
    "import calculate_private_snvs\n",
    "private_snv_map = calculate_private_snvs.load_private_snv_map(species_name)\n",
    "#NOTE: might want to eliminate"
   ]
  },
  {
   "cell_type": "code",
   "execution_count": 19,
   "metadata": {},
   "outputs": [
    {
     "name": "stderr",
     "output_type": "stream",
     "text": [
      "Loading SNPs for Parabacteroides_distasonis_56985...\n"
     ]
    }
   ],
   "source": [
    "# Load SNP information for species_name\n",
    "sys.stderr.write(\"Loading SNPs for %s...\\n\" % species_name)    \n",
    "snp_changes = {}\n",
    "gene_changes = {}\n",
    "tracked_private_snps = {}\n",
    "snp_opportunities = {}\n",
    "gene_opportunities = {}\n",
    "tracked_private_snp_opportunities = {}\n",
    "\n",
    "snp_perrs = {}\n",
    "gene_perrs = {}\n",
    "tracked_private_snp_perrs = {}\n",
    "\n",
    "snp_difference_matrix = numpy.array([]) # all sites in all genes\n",
    "snp_opportunity_matrix = numpy.array([])\n"
   ]
  },
  {
   "cell_type": "code",
   "execution_count": 20,
   "metadata": {},
   "outputs": [
    {
     "name": "stderr",
     "output_type": "stream",
     "text": [
      "Loading chunk starting @ 0...\n",
      "1k sites processed...\n",
      "2k sites processed...\n",
      "3k sites processed...\n",
      "4k sites processed...\n",
      "Done! Loaded 3527 genes\n"
     ]
    }
   ],
   "source": [
    "final_line_number = 0\n",
    "\n",
    "#while final_line_number >= 0: #MW: this is -1 after running the next line\n",
    "sys.stderr.write(\"Loading chunk starting @ %d...\\n\" % final_line_number)\n",
    "dummy_samples, allele_counts_map, passed_sites_map, final_line_number = parse_midas_data.parse_snps(species_name, debug=debug, allowed_samples=snp_samples, chunk_size=chunk_size,initial_line_number=final_line_number,allowed_genes=non_shared_genes)\n",
    "sys.stderr.write(\"Done! Loaded %d genes\\n\" % len(allele_counts_map.keys()))"
   ]
  },
  {
   "cell_type": "markdown",
   "metadata": {},
   "source": [
    "`passed_sites_map`: Within each gene and variant type bin, there is a symmetric matrix with dimensions (len(snp_samples), len(snp_samples). Each element counts the number of snp sites that have a depth > 0 in BOTH samples.  \n",
    "\n",
    "`allele_counts_map`: Within each gene and variant type bin, you have the sites that \"passed\", which means the alt allele is above 0.05%. If the SNV has an alt allele that passes in at least 1 sample. If it passes, the locations and [alt, ref] reads for ALL samples (in desired_samples) are appended to the dictionary. "
   ]
  },
  {
   "cell_type": "code",
   "execution_count": 21,
   "metadata": {},
   "outputs": [],
   "source": [
    "# All\n",
    "chunk_snp_difference_matrix, chunk_snp_opportunity_matrix = diversity_utils.calculate_fixation_matrix(allele_counts_map, passed_sites_map)  \n",
    "\n",
    "\n"
   ]
  },
  {
   "cell_type": "markdown",
   "metadata": {},
   "source": [
    "`chunk_snp_difference_matrix`: a symmetric matrix of with row and column dimensions equal to the number of samples. It tabulates the number of differences between samples  \n",
    "\n",
    "`chunk_snp_opportunity_matrix`: same thing, but with opportunities!"
   ]
  },
  {
   "cell_type": "code",
   "execution_count": 22,
   "metadata": {},
   "outputs": [],
   "source": [
    "if snp_difference_matrix.shape[0]==0:\n",
    "    snp_difference_matrix = numpy.zeros_like(chunk_snp_difference_matrix)*1.0\n",
    "    snp_opportunity_matrix = numpy.zeros_like(snp_difference_matrix)*1.0\n",
    "    \n",
    "# Add all\n",
    "snp_difference_matrix += chunk_snp_difference_matrix\n",
    "snp_opportunity_matrix += chunk_snp_opportunity_matrix"
   ]
  },
  {
   "cell_type": "code",
   "execution_count": 23,
   "metadata": {},
   "outputs": [],
   "source": [
    "sample_pairs, sample_pair_map = sample_utils.load_all_sample_pairs(snp_samples)"
   ]
  },
  {
   "cell_type": "code",
   "execution_count": 24,
   "metadata": {},
   "outputs": [],
   "source": [
    "for sample_pair_idx in xrange(0,len(sample_pairs[0])):\n",
    "    i = sample_pair_map[sample_pair_idx][0] #extract indices in snp_samples\n",
    "    j = sample_pair_map[sample_pair_idx][1]\n",
    "\n",
    "    sample_i = sample_pairs[0, sample_pair_idx] #extract sample_ids\n",
    "    sample_j = sample_pairs[1, sample_pair_idx]\n",
    "\n",
    "    avg_depth_i = sample_coverage_map[sample_i] #median number of reads per sample\n",
    "    avg_depth_j = sample_coverage_map[sample_j]\n",
    "\n",
    "    chunk_tracked_private_snps = diversity_utils.calculate_tracked_private_snvs(i, j, allele_counts_map, passed_sites_map, avg_depth_i, avg_depth_j, private_snv_map)\n",
    "    chunk_snp_changes = diversity_utils.calculate_snp_differences_between(i, j, allele_counts_map, passed_sites_map, avg_depth_i, avg_depth_j)\n",
    "    \n",
    "    sample_pair = (sample_i, sample_j)\n",
    "        \n",
    "    if sample_pair not in snp_changes:\n",
    "        snp_changes[sample_pair] = []\n",
    "        gene_changes[sample_pair] = []\n",
    "        snp_opportunities[sample_pair] = 0\n",
    "        gene_opportunities[sample_pair] = 0\n",
    "        snp_perrs[sample_pair] = -1\n",
    "        gene_perrs[sample_pair] = -1\n",
    "\n",
    "        tracked_private_snps[sample_pair] = []\n",
    "        tracked_private_snp_opportunities[sample_pair] = 0\n",
    "        tracked_private_snp_perrs[sample_pair] = -1\n",
    "\n",
    "    snp_changes[sample_pair].extend(chunk_snp_changes)\n",
    "    snp_opportunities[sample_pair] += chunk_snp_opportunity_matrix[i,j]\n",
    "\n",
    "    tracked_private_snps[sample_pair].extend( chunk_tracked_private_snps)\n",
    "\n",
    "    tracked_private_snp_opportunities[sample_pair] += len(chunk_tracked_private_snps)\n",
    "    "
   ]
  },
  {
   "cell_type": "code",
   "execution_count": 38,
   "metadata": {},
   "outputs": [
    {
     "name": "stderr",
     "output_type": "stream",
     "text": [
      "Done!\n"
     ]
    }
   ],
   "source": [
    "# Calculate SNP error rate\n",
    "for sample_pair_idx in xrange(0,len(sample_pairs[0])):\n",
    "\n",
    "    i = sample_pair_map[sample_pair_idx][0] #extract indices in snp_samples\n",
    "    j = sample_pair_map[sample_pair_idx][1]\n",
    "\n",
    "    sample_i = sample_pairs[0, sample_pair_idx] #extract sample_ids\n",
    "    sample_j = sample_pairs[1, sample_pair_idx]\n",
    "    \n",
    "    sample_pair = (sample_i, sample_j)\n",
    "\n",
    "    perr = diversity_utils.calculate_fixation_error_rate(sfs_map, sample_i, sample_j)[0]\n",
    "\n",
    "    snp_perrs[sample_pair] = perr\n",
    "    tracked_private_snp_perrs[sample_pair] = perr\n",
    "\n",
    "    gene_changes[sample_pair].extend( gene_diversity_utils.calculate_gene_differences_between(i, j, gene_reads_matrix, gene_depth_matrix, marker_coverages) )\n",
    "    #structure of gene_changes[sample_pair] output: \n",
    "    #(gene_idx, (gene depth of sample i, marker gene coverage in sample i), (gene depth of sample j, marker gene coverage in sample j))\n",
    "    gene_perr = gene_diversity_utils.calculate_gene_error_rate(i, j, gene_reads_matrix, gene_depth_matrix, marker_coverages)[0]\n",
    "\n",
    "    gene_opportunities[sample_pair] = gene_depth_matrix.shape[0]\n",
    "\n",
    "    gene_perrs[sample_pair] = gene_perr\n",
    "\n",
    "sys.stderr.write(\"Done!\\n\") "
   ]
  },
  {
   "cell_type": "code",
   "execution_count": 41,
   "metadata": {},
   "outputs": [
    {
     "name": "stderr",
     "output_type": "stream",
     "text": [
      "Done with Parabacteroides_distasonis_56985!\n"
     ]
    }
   ],
   "source": [
    "for sample_i, sample_j in snp_changes.keys():\n",
    "\n",
    "    # First output SNPs\n",
    "    snp_strs = []\n",
    "    for snp_change in snp_changes[(sample_i, sample_j)]:\n",
    "\n",
    "\n",
    "        gene_name, location, variant_type, allele_counts_1, allele_counts_2 = snp_change\n",
    "        contig = location[0]\n",
    "        position = location[1]\n",
    "\n",
    "        A1,D1 = allele_counts_1\n",
    "        A2,D2 = allele_counts_2\n",
    "\n",
    "        snp_str = ('%s;%s;%d;%s;%d;%d;%d;%d' % (gene_name, contig, position, variant_type, A1, D1, A2, D2))\n",
    "\n",
    "        snp_strs.append(snp_str)\n",
    "\n",
    "    record_str_items = [species_name, sample_i, sample_j, 'snps', \"%g\" % snp_opportunities[(sample_i, sample_j)], \"%g\" % snp_perrs[(sample_i, sample_j)]] + snp_strs\n",
    "    record_str = \", \".join(record_str_items)\n",
    "    output_file.write(record_str)\n",
    "    output_file.write(\"\\n\")\n",
    "\n",
    "    # Now output genes\n",
    "    gene_strs = []\n",
    "    for gene_change in gene_changes[(sample_i, sample_j)]:\n",
    "        gene_idx, coverages_1, coverages_2 = gene_change\n",
    "        gene_name = gene_names[gene_idx] \n",
    "        D1,Dm1 = coverages_1 #read depth of the gene in sample i, average read depth of marker genes in sample i\n",
    "        D2,Dm2 = coverages_2 #read depth of the gene in sample j, average read depth of marker genes in sample j\n",
    "\n",
    "        gene_str = ('%s;%0.2f;%0.2f;%0.2f;%0.2f' % (gene_name, D1, Dm1, D2, Dm2)) #gene name, depth i, marker depth i, depth j, marker depth j\n",
    "        gene_strs.append(gene_str)\n",
    "\n",
    "    record_str_items = [species_name, sample_i, sample_j, 'genes', \"%g\" % gene_opportunities[(sample_i, sample_j)], \"%g\" % gene_perrs[(sample_i, sample_j)]] + gene_strs\n",
    "    #Structure of output: species_name, sample i, sample j, \"genes\", gene change opportunities, gene change error rate, gene name, depth i, marker depth i, depth j, marker depth j\n",
    "    record_str = \", \".join(record_str_items)\n",
    "    output_file.write(record_str)\n",
    "    output_file.write(\"\\n\")\n",
    "\n",
    "    # Now output private SNPS\n",
    "    private_snp_strs = []\n",
    "    for snp_change in tracked_private_snps[(sample_i, sample_j)]:\n",
    "\n",
    "\n",
    "        gene_name, location, variant_type, allele_counts_1, allele_counts_2 = snp_change\n",
    "        contig = location[0]\n",
    "        position = location[1]\n",
    "\n",
    "        A1,D1 = allele_counts_1\n",
    "        A2,D2 = allele_counts_2\n",
    "\n",
    "        snp_str = ('%s;%s;%d;%s;%d;%d;%d;%d' % (gene_name, contig, position, variant_type, A1, D1, A2, D2))\n",
    "\n",
    "        private_snp_strs.append(snp_str)\n",
    "\n",
    "    record_str_items = [species_name, sample_i, sample_j, 'private_snps', \"%g\" % tracked_private_snp_opportunities[(sample_i, sample_j)], \"%g\" % tracked_private_snp_perrs[(sample_i, sample_j)]] + private_snp_strs\n",
    "    #Structure of output: species_name, sample i, sample j, \"private snps\", private snps opportunities, error rate, gene name, contig, position, variant type, alt reads i, depth i, alt reads j, depth j\n",
    "    record_str = \", \".join(record_str_items)\n",
    "    output_file.write(record_str)\n",
    "    output_file.write(\"\\n\")\n",
    "\n",
    "\n",
    "sys.stderr.write(\"Done with %s!\\n\" % species_name)"
   ]
  },
  {
   "cell_type": "code",
   "execution_count": 47,
   "metadata": {},
   "outputs": [
    {
     "name": "stderr",
     "output_type": "stream",
     "text": [
      "Done looping over species!\n",
      "Done!\n"
     ]
    }
   ],
   "source": [
    "sys.stderr.write(\"Done looping over species!\\n\")\n",
    "output_file.close()\n",
    "sys.stderr.write(\"Done!\\n\")"
   ]
  },
  {
   "cell_type": "code",
   "execution_count": null,
   "metadata": {},
   "outputs": [],
   "source": []
  },
  {
   "cell_type": "markdown",
   "metadata": {},
   "source": [
    "### FUNCTIONS"
   ]
  },
  {
   "cell_type": "code",
   "execution_count": 49,
   "metadata": {},
   "outputs": [
    {
     "data": {
      "text/plain": [
       "'/u/project/ngarud/Garud_lab/HumanizedMouse/HumanizedMouse_Batch2/merged_data/intersample_change/Parabacteroides_distasonis_56985.txt.gz'"
      ]
     },
     "execution_count": 49,
     "metadata": {},
     "output_type": "execute_result"
    }
   ],
   "source": [
    "intermediate_filename_template % (intersample_change_directory, species_name)"
   ]
  },
  {
   "cell_type": "code",
   "execution_count": null,
   "metadata": {},
   "outputs": [],
   "source": []
  },
  {
   "cell_type": "code",
   "execution_count": null,
   "metadata": {},
   "outputs": [],
   "source": [
    "def load_intersample_change_map(species_name):\n",
    "    \n",
    "    intermediate_filename = intermediate_filename_template % (intersample_change_directory, species_name)\n",
    "\n",
    "    intersample_change_map = {}\n",
    "\n",
    "\n",
    "    if not os.path.isfile(intermediate_filename):\n",
    "        return intersample_change_map\n",
    "    \n",
    "    file = gzip.open(intermediate_filename,\"r\")\n",
    "    file.readline() # header\n",
    "    for line in file:\n",
    "        items = line.split(\",\")\n",
    "        if items[0].strip()!=species_name:\n",
    "            continue\n",
    "            \n",
    "        sample_1 = items[1].strip()\n",
    "        sample_2 = items[2].strip()\n",
    "        type = items[3].strip()\n",
    "        num_opportunities = float(items[4])\n",
    "        perr = float(items[5])\n",
    "        sample_pair = (sample_1, sample_2)\n",
    "        if sample_pair not in temporal_change_map:\n",
    "            temporal_change_map[sample_pair] = {}\n",
    "        \n",
    "        changes = []\n",
    "        if len(items)<7:\n",
    "            pass\n",
    "        else:\n",
    "            change_strs = items[6:]\n",
    "            for change_str in change_strs:\n",
    "            \n",
    "                subitems = change_str.split(\";\")\n",
    "                \n",
    "                # switch on type of change\n",
    "                if type=='snps':    \n",
    "                    gene_name = subitems[0].strip()\n",
    "                    contig = subitems[1].strip()\n",
    "                    position = long(subitems[2])\n",
    "                    variant_type = subitems[3].strip()\n",
    "                    A1 = float(subitems[4])\n",
    "                    D1 = float(subitems[5])\n",
    "                    A2 = float(subitems[6])\n",
    "                    D2 = float(subitems[7])\n",
    "                    changes.append( (gene_name, contig, position, variant_type, A1, D1, A2, D2) )\n",
    "                            \n",
    "                elif type=='genes':\n",
    "                    gene_name = subitems[0].strip()\n",
    "                    D1 = float(subitems[1])\n",
    "                    Dm1 = float(subitems[2])\n",
    "                    D2 = float(subitems[3])\n",
    "                    Dm2 = float(subitems[4])\n",
    "                    changes.append( (gene_name, D1, Dm1, D2, Dm2) )\n",
    "                    \n",
    "                elif type=='private_snps':\n",
    "                    \n",
    "                    gene_name = subitems[0].strip()\n",
    "                    contig = subitems[1].strip()\n",
    "                    position = long(subitems[2])\n",
    "                    variant_type = subitems[3].strip()\n",
    "                    A1 = float(subitems[4])\n",
    "                    D1 = float(subitems[5])\n",
    "                    A2 = float(subitems[6])\n",
    "                    D2 = float(subitems[7])\n",
    "                    changes.append( (gene_name, contig, position, variant_type, A1, D1, A2, D2) )\n",
    "                    \n",
    "        intersample_change_map[sample_pair][type] = num_opportunities, perr, changes\n",
    "    \n",
    "    return intersample_change_map"
   ]
  },
  {
   "cell_type": "code",
   "execution_count": null,
   "metadata": {},
   "outputs": [],
   "source": []
  },
  {
   "cell_type": "code",
   "execution_count": null,
   "metadata": {},
   "outputs": [],
   "source": [
    "def calculate_private_reversions_from_intersample_change_map(intersample_change_map, sample_1, sample_2, lower_threshold=config.consensus_lower_threshold, \n",
    "upper_threshold=config.consensus_upper_threshold):\n",
    "    \n",
    "    sample_pair = sample_1, sample_2\n",
    "    if sample_pair not in intersample_change_map:\n",
    "        return -1, None, None\n",
    "        \n",
    "    if 'private_snps' not in intersample_change_map[sample_pair]:\n",
    "        return -1, None, None\n",
    "        \n",
    "    # otherwise, some hope! \n",
    "    \n",
    "    private_snp_opportunities, private_snp_perr, private_snps = intersample_change_map[sample_pair]['private_snps']\n",
    "    \n",
    "    mutations = []\n",
    "    private_snp_reversions = []\n",
    "    for snp_change in private_snps:\n",
    "    \n",
    "        a,b,c,d,A1,D1,A2,D2 = snp_change\n",
    "        \n",
    "        if D1==0 or D2==0:\n",
    "            private_snp_opportunities-=1\n",
    "            continue\n",
    "        \n",
    "        f1 = A1*1.0/D1\n",
    "        f2 = A2*1.0/D2\n",
    "        \n",
    "        if f1>=upper_threshold and f2<=lower_threshold:\n",
    "            private_snp_reversions.append(snp_change)\n",
    "        if f1<=upper_threshold and f2>=upper_threshold:\n",
    "            mutations.append(snp_change)        \n",
    "    \n",
    "    return private_snp_opportunities, private_snp_perr, private_snp_reversions\n"
   ]
  },
  {
   "cell_type": "code",
   "execution_count": null,
   "metadata": {},
   "outputs": [],
   "source": []
  },
  {
   "cell_type": "code",
   "execution_count": null,
   "metadata": {},
   "outputs": [],
   "source": [
    "def calculate_mutations_reversions_from_intersample_change_map(intersample_change_map, sample_1, sample_2, lower_threshold=config.consensus_lower_threshold, \n",
    "upper_threshold=config.consensus_upper_threshold):\n",
    "\n",
    "    sample_pair = sample_1, sample_2\n",
    "    if sample_pair not in intersample_change_map:\n",
    "        return -1, -1, [], []\n",
    "        \n",
    "    if 'snps' not in intersample_change_map[sample_pair]:\n",
    "        return -1, -1, [], []\n",
    "        \n",
    "    # otherwise, some hope! \n",
    "    snp_opportunities, snp_perr, snp_changes = intersample_change_map[sample_pair]['snps']\n",
    "    \n",
    "    mutations = []\n",
    "    reversions = []\n",
    "    for snp_change in snp_changes:\n",
    "    \n",
    "        a,b,c,d,A1,D1,A2,D2 = snp_change\n",
    "        \n",
    "        f1 = A1*1.0/D1\n",
    "        f2 = A2*1.0/D2\n",
    "        \n",
    "        if (f1<=lower_threshold) and (f2>=upper_threshold):\n",
    "            mutations.append(snp_change)\n",
    "        elif (f1>=upper_threshold) and (f2<=lower_threshold):\n",
    "            reversions.append(snp_change)\n",
    "            \n",
    "    \n",
    "    return snp_opportunities, snp_perr, mutations, reversions\n"
   ]
  },
  {
   "cell_type": "code",
   "execution_count": null,
   "metadata": {},
   "outputs": [],
   "source": []
  },
  {
   "cell_type": "code",
   "execution_count": null,
   "metadata": {},
   "outputs": [],
   "source": [
    "def calculate_gains_losses_from_intersample_change_map(intersample_change_map, sample_1, sample_2, max_absent_copynum=config.gainloss_max_absent_copynum, min_normal_copynum=config.gainloss_min_normal_copynum, max_normal_copynum=config.gainloss_max_normal_copynum):\n",
    "\n",
    "\n",
    "    sample_pair = sample_1, sample_2\n",
    "    if sample_pair not in intersample_change_map:\n",
    "        return -1, -1, [], []\n",
    "        \n",
    "    if 'genes' not in intersample_change_map[sample_pair]:\n",
    "        return -1, -1, [], []\n",
    "        \n",
    "    # otherwise, some hope! \n",
    "    gene_opportunities, gene_perr, gene_changes = intersample_change_map[sample_pair]['genes']\n",
    "    \n",
    "    gains = []\n",
    "    losses = []\n",
    "    for gene_change in gene_changes:\n",
    "    \n",
    "        gene_name, D1, Dm1, D2, Dm2 = gene_change\n",
    "        \n",
    "        copynum_1 = D1/Dm1\n",
    "        copynum_2 = D2/Dm2\n",
    "        \n",
    "        if (copynum_1<=max_absent_copynum) and (copynum_2>=min_normal_copynum) and (copynum_2<=max_normal_copynum):\n",
    "            gains.append(gene_change)\n",
    "        elif (copynum_2<=max_absent_copynum) and (copynum_1>=min_normal_copynum) and (copynum_1<=max_normal_copynum):\n",
    "            losses.append(gene_change)\n",
    "            \n",
    "    \n",
    "    return gene_opportunities, gene_perr, gains, losses"
   ]
  },
  {
   "cell_type": "code",
   "execution_count": null,
   "metadata": {},
   "outputs": [],
   "source": []
  },
  {
   "cell_type": "code",
   "execution_count": null,
   "metadata": {},
   "outputs": [],
   "source": []
  }
 ],
 "metadata": {
  "kernelspec": {
   "display_name": "python27_env",
   "language": "python",
   "name": "python27_env"
  },
  "language_info": {
   "codemirror_mode": {
    "name": "ipython",
    "version": 2
   },
   "file_extension": ".py",
   "mimetype": "text/x-python",
   "name": "python",
   "nbconvert_exporter": "python",
   "pygments_lexer": "ipython2",
   "version": "2.7.18"
  }
 },
 "nbformat": 4,
 "nbformat_minor": 4
}
