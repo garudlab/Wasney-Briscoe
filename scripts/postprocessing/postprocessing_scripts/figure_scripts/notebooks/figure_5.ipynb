{
 "cells": [
  {
   "cell_type": "code",
   "execution_count": 1,
   "metadata": {},
   "outputs": [],
   "source": [
    "import sys\n",
    "sys.path.insert(0, \"/u/home/m/michaelw/project-ngarud/microbiome_evolution/microbiome_evolution_MOUSE/\")\n",
    "\n",
    "import matplotlib  \n",
    "matplotlib.use('Agg') \n",
    "import sample_utils\n",
    "import config\n",
    "import parse_midas_data\n",
    "import os.path\n",
    "import pylab\n",
    "import numpy\n",
    "import diversity_utils\n",
    "import gene_diversity_utils\n",
    "import calculate_temporal_changes\n",
    "import calculate_substitution_rates\n",
    "import stats_utils\n",
    "import sfs_utils\n",
    "    \n",
    "    \n",
    "import matplotlib.colors as colors\n",
    "import matplotlib.cm as cmx\n",
    "from math import log10,ceil,log,exp\n",
    "import matplotlib as mpl\n",
    "import matplotlib.pyplot as plt\n",
    "import matplotlib.gridspec as gridspec\n",
    "from numpy.random import randint, random, choice, multinomial, shuffle\n",
    "import matplotlib.colors as mcolors\n",
    "import matplotlib.patheffects as pe\n",
    "\n",
    "from scipy.cluster.hierarchy import dendrogram, linkage\n",
    "from scipy.cluster.hierarchy import cophenet\n",
    "from scipy.cluster.hierarchy import fcluster\n",
    "\n",
    "\n",
    "mpl.rcParams['font.size'] = 7\n",
    "mpl.rcParams['lines.linewidth'] = 0.5\n",
    "mpl.rcParams['legend.frameon']  = False\n",
    "mpl.rcParams['legend.fontsize']  = 'small'\n",
    "\n",
    "species_name = \"Bacteroides_vulgatus_57955\""
   ]
  },
  {
   "cell_type": "markdown",
   "metadata": {},
   "source": [
    "### parameters"
   ]
  },
  {
   "cell_type": "code",
   "execution_count": 2,
   "metadata": {},
   "outputs": [],
   "source": [
    "debug = False\n",
    "chunk_size = 1000000000\n",
    "memoize = False\n",
    "modification_difference_threshold = config.modification_difference_threshold #set to 20\n",
    "replacement_difference_threshold = config.replacement_difference_threshold #set to 500\n",
    "twin_modification_difference_threshold = config.twin_modification_difference_threshold #set to 1000\n",
    "twin_replacement_difference_threshold = config.twin_replacement_difference_threshold #set to 1000\n",
    "default_num_bootstraps = 10000"
   ]
  },
  {
   "cell_type": "markdown",
   "metadata": {},
   "source": [
    "### initialize outputs"
   ]
  },
  {
   "cell_type": "code",
   "execution_count": 3,
   "metadata": {},
   "outputs": [],
   "source": [
    "output_filename = ('%s/within_host_output.txt' % (parse_midas_data.analysis_directory))\n",
    "output_strs = []"
   ]
  },
  {
   "cell_type": "code",
   "execution_count": 4,
   "metadata": {},
   "outputs": [],
   "source": [
    "min_coverage = config.min_median_coverage\n",
    "min_sample_size = 3\n",
    "min_haploid_sample_size = 10"
   ]
  },
  {
   "cell_type": "markdown",
   "metadata": {},
   "source": [
    "### more parameters"
   ]
  },
  {
   "cell_type": "code",
   "execution_count": 5,
   "metadata": {},
   "outputs": [],
   "source": [
    "variant_types = ['1D','4D']"
   ]
  },
  {
   "cell_type": "code",
   "execution_count": 6,
   "metadata": {},
   "outputs": [],
   "source": [
    "within_host_type = 'consecutive' # MW: will need to change this"
   ]
  },
  {
   "cell_type": "code",
   "execution_count": 7,
   "metadata": {},
   "outputs": [],
   "source": [
    "# For partitioning SNVs according to prevalence\n",
    "derived_freq_bins = numpy.array([-1,0,0.01,0.1,0.5,0.9,0.99,1,2])\n",
    "derived_virtual_freqs = numpy.arange(0,len(derived_freq_bins)-1)\n",
    "derived_virtual_xticks = list(derived_virtual_freqs[:-1]+0.5)\n",
    "derived_virtual_xticklabels = ['0','.01','.1','.5','.9','.99','1']"
   ]
  },
  {
   "cell_type": "code",
   "execution_count": 8,
   "metadata": {},
   "outputs": [],
   "source": [
    "# For partitioning genes into different prevalence classes\n",
    "gene_freq_bins = numpy.array([-1,0.1,0.5,0.9,2])\n",
    "gene_freq_xticks      = [-4, -3,  -2,   -1,   0,   1,    2,   3, 4]\n",
    "gene_freq_xticklabels = ['0','0.1','0.5', '0.9','1','0.9','0.5', '0.1','0']\n",
    "gene_gain_virtual_freqs = numpy.array([3.5,2.5,1.5,0.5])\n",
    "gene_loss_virtual_freqs = numpy.array([-3.5,-2.5,-1.5,-0.5])"
   ]
  },
  {
   "cell_type": "markdown",
   "metadata": {},
   "source": [
    "### setting cohorts (irrelevant for our analysis)"
   ]
  },
  {
   "cell_type": "code",
   "execution_count": 9,
   "metadata": {},
   "outputs": [],
   "source": [
    "# #####\n",
    "# #\n",
    "# # Settings for different cohorts we are looking at \n",
    "# #\n",
    "# #####\n",
    "# cohorts = [\"hmp\", \"twins\", \"young_twins\"]\n",
    "# countries = [\"United States\", \"United Kingdom\", \"Western Europe\"]\n",
    "# country_cohort_map = {country: cohort for country,cohort in zip(countries,cohorts)}\n",
    "\n",
    "# modification_difference_thresholds = {\"hmp\": modification_difference_threshold, \"twins\": 1e06, \"young_twins\": twin_modification_difference_threshold}\n",
    "\n",
    "# replacement_difference_thresholds = {\"hmp\": replacement_difference_threshold, \"twins\": twin_replacement_difference_threshold, \"young_twins\": twin_replacement_difference_threshold}"
   ]
  },
  {
   "cell_type": "markdown",
   "metadata": {},
   "source": [
    "# Set up figures"
   ]
  },
  {
   "cell_type": "markdown",
   "metadata": {},
   "source": [
    "## Distribution of changes across individual species"
   ]
  },
  {
   "cell_type": "code",
   "execution_count": 10,
   "metadata": {},
   "outputs": [
    {
     "name": "stderr",
     "output_type": "stream",
     "text": [
      "/u/home/m/michaelw/.conda/envs/python27_env/lib/python2.7/site-packages/matplotlib/axes/_base.py:3471: UserWarning: Attempting to set identical bottom==top results\n",
      "in singular transformations; automatically expanding.\n",
      "bottom=1.0, top=1.0\n",
      "  'bottom=%s, top=%s') % (bottom, top))\n"
     ]
    },
    {
     "data": {
      "text/plain": [
       "[]"
      ]
     },
     "execution_count": 10,
     "metadata": {},
     "output_type": "execute_result"
    }
   ],
   "source": [
    "pylab.figure(1,figsize=(7,5))\n",
    "fig = pylab.gcf()\n",
    "# make three panels panels\n",
    "outer_grid = gridspec.GridSpec(2,1,height_ratios=[1,1],hspace=0.25)\n",
    "\n",
    "upper_grid  = gridspec.GridSpecFromSubplotSpec(1,2,width_ratios=[1,1],wspace=0.1, subplot_spec=outer_grid[0])\n",
    "\n",
    "species_snp_axis = plt.Subplot(fig, upper_grid[0])\n",
    "fig.add_subplot(species_snp_axis)\n",
    "\n",
    "species_snp_axis.spines['top'].set_visible(False)\n",
    "species_snp_axis.spines['right'].set_visible(False)\n",
    "species_snp_axis.get_xaxis().tick_bottom()\n",
    "species_snp_axis.get_yaxis().tick_left()\n",
    "\n",
    "species_snp_axis.set_ylabel('Fraction comparisons $\\geq n$')\n",
    "species_snp_axis.set_xlabel('# SNV changes')\n",
    "\n",
    "\n",
    "species_gene_axis = plt.Subplot(fig, upper_grid[1])\n",
    "fig.add_subplot(species_gene_axis)\n",
    "\n",
    "species_gene_axis.spines['top'].set_visible(False)\n",
    "species_gene_axis.spines['right'].set_visible(False)\n",
    "species_gene_axis.get_xaxis().tick_bottom()\n",
    "species_gene_axis.get_yaxis().tick_left()\n",
    "\n",
    "species_snp_axis.loglog([0.01],[1],'k.')\n",
    "species_gene_axis.loglog([0.01],[1],'k.')\n",
    "\n",
    "species_snp_axis.set_xlim([3e-01,1e05])\n",
    "species_gene_axis.set_xlim([3e-01,1e04])\n",
    "\n",
    "species_gene_axis.set_xlabel('# gene changes')\n",
    "\n",
    "species_legend_axis = plt.Subplot(fig, outer_grid[1])\n",
    "fig.add_subplot(species_legend_axis)\n",
    "\n",
    "species_legend_axis.set_ylim([0,1])\n",
    "species_legend_axis.set_xlim([0,1])\n",
    "\n",
    "species_legend_axis.spines['top'].set_visible(False)\n",
    "species_legend_axis.spines['right'].set_visible(False)\n",
    "species_legend_axis.spines['left'].set_visible(False)\n",
    "species_legend_axis.spines['bottom'].set_visible(False)\n",
    "\n",
    "species_legend_axis.set_xticks([])\n",
    "species_legend_axis.set_yticks([])"
   ]
  },
  {
   "cell_type": "markdown",
   "metadata": {},
   "source": [
    "## Main text figure"
   ]
  },
  {
   "cell_type": "code",
   "execution_count": 11,
   "metadata": {},
   "outputs": [
    {
     "data": {
      "text/plain": [
       "<matplotlib.legend.Legend at 0x2ba5b957ccd0>"
      ]
     },
     "execution_count": 11,
     "metadata": {},
     "output_type": "execute_result"
    }
   ],
   "source": [
    "pylab.figure(2,figsize=(7,4))\n",
    "fig2 = pylab.gcf()\n",
    "# make three panels panels\n",
    "outer_outer_grid_2 = gridspec.GridSpec(1,1) #2, width_ratios=[1,0.2],wspace=0.1) \n",
    "outer_grid_2 = gridspec.GridSpecFromSubplotSpec(2,1, height_ratios=[1,0.7],hspace=0.6, subplot_spec=outer_outer_grid_2[0])\n",
    "\n",
    "prevalence_outer_grid = gridspec.GridSpecFromSubplotSpec(1,2, width_ratios=[1,0.1],wspace=0.2,subplot_spec=outer_grid_2[1])\n",
    "\n",
    "prevalence_grid = gridspec.GridSpecFromSubplotSpec(1,2, width_ratios=[1,1],wspace=0.5,subplot_spec=prevalence_outer_grid[0])\n",
    "\n",
    "pooled_grid = gridspec.GridSpecFromSubplotSpec(1,3,width_ratios=[1,1,0.2],wspace=0.15,subplot_spec=outer_grid_2[0])\n",
    "\n",
    "pooled_snp_axis = plt.Subplot(fig2, pooled_grid[0])\n",
    "fig2.add_subplot(pooled_snp_axis)\n",
    "pooled_snp_axis.set_ylabel('Fraction comparisons $\\geq n$')\n",
    "pooled_snp_axis.set_xlabel('# SNV changes')\n",
    "#pooled_axis.set_ylim([-35,35])\n",
    "#pooled_snp_axis.set_xlim([2e-01,1e05])\n",
    "pooled_snp_axis.set_xlim([0.6,1e05])\n",
    "\n",
    "pooled_snp_axis.set_xticklabels([])\n",
    "\n",
    "pooled_snp_axis.spines['top'].set_visible(False)\n",
    "pooled_snp_axis.spines['right'].set_visible(False)\n",
    "pooled_snp_axis.get_xaxis().tick_bottom()\n",
    "pooled_snp_axis.get_yaxis().tick_left()\n",
    " \n",
    "pooled_gene_axis = plt.Subplot(fig2, pooled_grid[1])\n",
    "fig2.add_subplot(pooled_gene_axis)\n",
    "#pooled_gene_axis.set_ylabel('Number of samples')\n",
    "pooled_gene_axis.set_xlabel('# gene changes')\n",
    "#pooled_axis.set_ylim([-35,35])\n",
    "#pooled_gene_axis.set_xlim([2e-01,1e04])\n",
    "pooled_gene_axis.set_xlim([0.6,1e04])\n",
    "\n",
    "pooled_gene_axis.spines['top'].set_visible(False)\n",
    "pooled_gene_axis.spines['right'].set_visible(False)\n",
    "pooled_gene_axis.get_xaxis().tick_bottom()\n",
    "pooled_gene_axis.get_yaxis().tick_left()\n",
    "\n",
    "pooled_snp_axis.loglog([0.1],[1],'k.')\n",
    "pooled_gene_axis.loglog([0.1],[1],'k.')\n",
    " \n",
    "legend2_axis = plt.Subplot(fig2, pooled_grid[2])\n",
    "fig2.add_subplot(legend2_axis)\n",
    "\n",
    "legend2_axis.set_ylim([0,1])\n",
    "legend2_axis.set_xlim([0,1])\n",
    "\n",
    "legend2_axis.spines['top'].set_visible(False)\n",
    "legend2_axis.spines['right'].set_visible(False)\n",
    "legend2_axis.spines['left'].set_visible(False)\n",
    "legend2_axis.spines['bottom'].set_visible(False)\n",
    "\n",
    "legend2_axis.set_xticks([])\n",
    "legend2_axis.set_yticks([])\n",
    "\n",
    "legend2_axis.plot([-2,-1],[-1,-1],'-',linewidth=1, color='#08519c',label='Within-host')\n",
    "legend2_axis.plot([-2,-1],[-1,-1],'-',color='#08519c',linewidth=1, label='modification',zorder=2,path_effects=[pe.Stroke(linewidth=5, foreground='#9ecae1'), pe.Normal()])\n",
    "legend2_axis.plot([-2,-1],[-1,-1],'-',color='#08519c', label='replacement',linewidth=1,path_effects=[pe.Stroke(linewidth=5, foreground='#fee0d2'), pe.Normal()])\n",
    "legend2_axis.plot([-2,-1],[-1,-1],'-',color='#08519c', label='no SNVs',linewidth=1,path_effects=[pe.Stroke(linewidth=5, foreground='0.8'), pe.Normal()])\n",
    "legend2_axis.plot([-2,-1],[-1,-1], '-',linewidth=1,color='w', alpha=0.5, label=' ')\n",
    "legend2_axis.plot([-2,-1],[-1,-1], '-',linewidth=1,color='r', alpha=0.5, label='Between-host\\n(unrelated)')\n",
    "legend2_axis.plot([-2,-1],[-1,-1],'-',linewidth=1,color='#8856a7', label='Between-host\\n(adult twins)')\n",
    "\n",
    "legend2_axis.legend(loc='upper center',frameon=False,fontsize=5,numpoints=1,ncol=1,handlelength=1)   \n",
    "\n",
    "\n",
    "hmp_frequency_axis = plt.Subplot(fig2, prevalence_grid[0])\n",
    "fig2.add_subplot(hmp_frequency_axis)\n",
    "\n",
    "hmp_frequency_axis.spines['top'].set_visible(False)\n",
    "hmp_frequency_axis.spines['right'].set_visible(False)\n",
    "hmp_frequency_axis.get_xaxis().tick_bottom()\n",
    "hmp_frequency_axis.get_yaxis().tick_left()\n",
    " \n",
    "hmp_frequency_axis.set_xlabel('Derived allele prevalence\\nacross hosts')\n",
    "hmp_frequency_axis.set_ylabel('# SNV changes')\n",
    "\n",
    "hmp_frequency_axis.set_xticks(derived_virtual_xticks)\n",
    "hmp_frequency_axis.set_xticklabels(derived_virtual_xticklabels) #,rotation='vertical')\n",
    "\n",
    "hmp_frequency_axis.set_ylim([0,200])\n",
    "\n",
    "hmp_gene_frequency_axis = plt.Subplot(fig2, prevalence_grid[1])\n",
    "fig2.add_subplot(hmp_gene_frequency_axis)\n",
    "\n",
    "hmp_gene_frequency_axis.spines['top'].set_visible(False)\n",
    "hmp_gene_frequency_axis.spines['right'].set_visible(False)\n",
    "hmp_gene_frequency_axis.get_xaxis().tick_bottom()\n",
    "hmp_gene_frequency_axis.get_yaxis().tick_left()\n",
    " \n",
    "hmp_gene_frequency_axis.set_xlabel('Gene prevalence across hosts')\n",
    "hmp_gene_frequency_axis.set_ylabel('# gene changes')\n",
    "\n",
    "hmp_gene_frequency_axis.set_xlim([gene_freq_xticks[0],gene_freq_xticks[-1]])\n",
    "hmp_gene_frequency_axis.set_xticks(gene_freq_xticks)\n",
    "hmp_gene_frequency_axis.set_xticklabels(gene_freq_xticklabels) #,rotation='vertical')\n",
    "\n",
    "hmp_gene_frequency_axis.plot([0,0],[100,100],'k-')\n",
    "hmp_gene_frequency_axis.set_ylim([0,60])\n",
    "\n",
    "hmp_gene_legend_axis = plt.Subplot(fig2, prevalence_outer_grid[1])\n",
    "fig2.add_subplot(hmp_gene_legend_axis)\n",
    "\n",
    "hmp_gene_legend_axis.set_ylim([0,1])\n",
    "hmp_gene_legend_axis.set_xlim([0,1])\n",
    "\n",
    "hmp_gene_legend_axis.spines['top'].set_visible(False)\n",
    "hmp_gene_legend_axis.spines['right'].set_visible(False)\n",
    "hmp_gene_legend_axis.spines['left'].set_visible(False)\n",
    "hmp_gene_legend_axis.spines['bottom'].set_visible(False)\n",
    "\n",
    "hmp_gene_legend_axis.set_xticks([])\n",
    "hmp_gene_legend_axis.set_yticks([])\n",
    "\n",
    "hmp_gene_legend_axis.bar([-2],[-1],width=0.2, linewidth=0,facecolor='#b3de69',label='gain')\n",
    "hmp_gene_legend_axis.bar([-2],[-1],width=0.2, linewidth=0,facecolor='#ff7f00',label='loss')\n",
    "hmp_gene_legend_axis.bar([-2],[-1],width=0.2, linewidth=0,facecolor='0.7',label='de novo\\nexpectation')\n",
    "\n",
    "hmp_gene_legend_axis.legend(loc='center left',frameon=False,fontsize=5,numpoints=1,ncol=1,handlelength=1)   \n"
   ]
  },
  {
   "cell_type": "markdown",
   "metadata": {},
   "source": [
    "# Calculations"
   ]
  },
  {
   "cell_type": "markdown",
   "metadata": {},
   "source": [
    "### `pooled_snp_axis`"
   ]
  },
  {
   "cell_type": "code",
   "execution_count": 12,
   "metadata": {},
   "outputs": [
    {
     "name": "stderr",
     "output_type": "stream",
     "text": [
      "Loading sample metadata...\n",
      "Done!\n"
     ]
    }
   ],
   "source": [
    "# Load subject and sample metadata\n",
    "sys.stderr.write(\"Loading sample metadata...\\n\")\n",
    "subject_sample_map = parse_midas_data.parse_subject_sample_map()\n",
    "sample_subject_map = sample_utils.calculate_sample_subject_map(subject_sample_map)\n",
    "sys.stderr.write(\"Done!\\n\")"
   ]
  },
  {
   "cell_type": "code",
   "execution_count": 13,
   "metadata": {},
   "outputs": [],
   "source": [
    "good_species_list = parse_midas_data.parse_good_species_list() #Loads good species based on them having marker gene coverage over 10 (i.e., present) in at least 2 samples, basically, \n"
   ]
  },
  {
   "cell_type": "code",
   "execution_count": 14,
   "metadata": {},
   "outputs": [],
   "source": [
    "num_passed_species = 0"
   ]
  },
  {
   "cell_type": "code",
   "execution_count": 15,
   "metadata": {},
   "outputs": [],
   "source": [
    "#This is the for loop starting at line 746\n",
    "species_name = \"Akkermansia_muciniphila_55290\"\n"
   ]
  },
  {
   "cell_type": "code",
   "execution_count": 16,
   "metadata": {},
   "outputs": [],
   "source": [
    "# all samples\n",
    "all_samples = sample_subject_map.keys()"
   ]
  },
  {
   "cell_type": "code",
   "execution_count": 17,
   "metadata": {},
   "outputs": [],
   "source": [
    "highcoverage_samples = set(diversity_utils.calculate_highcoverage_samples(species_name))"
   ]
  },
  {
   "cell_type": "code",
   "execution_count": 18,
   "metadata": {},
   "outputs": [],
   "source": [
    "haploid_samples = set(diversity_utils.calculate_haploid_samples(species_name))"
   ]
  },
  {
   "cell_type": "code",
   "execution_count": 19,
   "metadata": {},
   "outputs": [
    {
     "data": {
      "text/plain": [
       "{'M1CeC_CKDN220050952-1A_H7MMHDSX5_L3',\n",
       " 'M1CoC_CKDN220050958-1A_H7MMHDSX5_L2',\n",
       " 'M1DC_CKDN220050964-1A_H7MMHDSX5_L2',\n",
       " 'M1IC_CKDN220050976-1A_H7MMHDSX5_L2',\n",
       " 'M1JC_CKDN220050970-1A_H7MMHDSX5_L2',\n",
       " 'M2CeC_CKDN220050953-1A_merge',\n",
       " 'M2CoC_CKDN220050959-1A_H7MMHDSX5_L2',\n",
       " 'M2IC_CKDN220050977-1A_H7MMHDSX5_L2',\n",
       " 'M2JC_CKDN220050971-1A_H7MMHDSX5_L2',\n",
       " 'M3CeC_CKDN220050954-1A_H7MMHDSX5_L2',\n",
       " 'M3CoC_CKDN220050960-1A_H7MMHDSX5_L2',\n",
       " 'M3DC_CKDN220050966-1A_H7MMHDSX5_L2',\n",
       " 'M3JC_CKDN220050972-1A_H7MMHDSX5_L2',\n",
       " 'M4CeG_CKDN220050955-1A_H7MMHDSX5_L2',\n",
       " 'M4CoG_CKDN220050961-1A_merge',\n",
       " 'M4DG_CKDN220050967-1A_H7MMHDSX5_L3',\n",
       " 'M4IG_CKDN220050979-1A_H7MMHDSX5_L2',\n",
       " 'M4JG_CKDN220050973-1A_merge',\n",
       " 'M5CeG_CKDN220050956-1A_H7MMHDSX5_L2',\n",
       " 'M5CoG_CKDN220050962-1A_merge',\n",
       " 'M5DG_CKDN220050968-1A_merge',\n",
       " 'M5IG_CKDN220050980-1A_HF3V5DSX5_L1',\n",
       " 'M5JG_CKDN220050974-1A_merge',\n",
       " 'M6CeG_CKDN220050957-1A_H7MMGDSX5_L2',\n",
       " 'M6CoG_CKDN220050963-1A_H7MMHDSX5_L2',\n",
       " 'M6DG_CKDN220050969-1A_H7MMGDSX5_L1',\n",
       " 'M6IG_CKDN220050981-1A_HF3V5DSX5_L1',\n",
       " 'M6JG_CKDN220050975-1A_H7MMHDSX5_L2',\n",
       " 'M7CecGG',\n",
       " 'M7ColonGG',\n",
       " 'M7DGG',\n",
       " 'M7IGG_2',\n",
       " 'M7JGG',\n",
       " 'M8CeCGG',\n",
       " 'M8ColonGG_2',\n",
       " 'M8D',\n",
       " 'M8IGG_2',\n",
       " 'M8JGG_2',\n",
       " 'TL1gDNAshort'}"
      ]
     },
     "execution_count": 19,
     "metadata": {},
     "output_type": "execute_result"
    }
   ],
   "source": [
    "haploid_samples"
   ]
  },
  {
   "cell_type": "code",
   "execution_count": 20,
   "metadata": {},
   "outputs": [],
   "source": [
    "all_samples = list(haploid_samples)"
   ]
  },
  {
   "cell_type": "code",
   "execution_count": 21,
   "metadata": {},
   "outputs": [],
   "source": [
    "#skipped from line 760 to 855\n",
    "import calculate_private_snvs\n"
   ]
  },
  {
   "cell_type": "code",
   "execution_count": 22,
   "metadata": {},
   "outputs": [],
   "source": [
    "private_snv_map = calculate_private_snvs.load_private_snv_map(species_name)"
   ]
  },
  {
   "cell_type": "code",
   "execution_count": 23,
   "metadata": {},
   "outputs": [
    {
     "data": {
      "text/plain": [
       "{}"
      ]
     },
     "execution_count": 23,
     "metadata": {},
     "output_type": "execute_result"
    }
   ],
   "source": [
    "private_snv_map"
   ]
  },
  {
   "cell_type": "code",
   "execution_count": 24,
   "metadata": {},
   "outputs": [],
   "source": [
    "import calculate_snp_prevalences\n",
    "snv_freq_map = calculate_snp_prevalences.parse_population_freqs(species_name,polarize_by_consensus=True)\n",
    "snv_freq_keys = snv_freq_map.keys()\n",
    "snv_freq_values = snv_freq_map.values()"
   ]
  },
  {
   "cell_type": "code",
   "execution_count": 41,
   "metadata": {},
   "outputs": [
    {
     "data": {
      "text/plain": [
       "{('NC_010655', 138292L): 0.5,\n",
       " ('NC_010655', 299821L): 0.0789474,\n",
       " ('NC_010655', 299872L): 0.108108,\n",
       " ('NC_010655', 816900L): 0.5,\n",
       " ('NC_010655', 816901L): 0.5,\n",
       " ('NC_010655', 816902L): 0.333333,\n",
       " ('NC_010655', 835682L): 0.333333,\n",
       " ('NC_010655', 866125L): 0.025641000000000025,\n",
       " ('NC_010655', 866126L): 0.0512821,\n",
       " ('NC_010655', 866141L): 0.10256399999999999,\n",
       " ('NC_010655', 866157L): 0.17948699999999995,\n",
       " ('NC_010655', 866162L): 0.230769,\n",
       " ('NC_010655', 866211L): 0.384615,\n",
       " ('NC_010655', 866218L): 0.307692,\n",
       " ('NC_010655', 866244L): 0.461538,\n",
       " ('NC_010655', 866263L): 0.421053,\n",
       " ('NC_010655', 866305L): 0.315789,\n",
       " ('NC_010655', 866335L): 0.162162,\n",
       " ('NC_010655', 1171515L): 0.115385,\n",
       " ('NC_010655', 1171558L): 0.484848,\n",
       " ('NC_010655', 1171890L): 0.30303,\n",
       " ('NC_010655', 1171912L): 0.333333,\n",
       " ('NC_010655', 1171914L): 0.19999999999999996,\n",
       " ('NC_010655', 1185477L): 0.1875,\n",
       " ('NC_010655', 1185478L): 0.153846,\n",
       " ('NC_010655', 1216444L): 0.0714286,\n",
       " ('NC_010655', 1360892L): 0.025641000000000025,\n",
       " ('NC_010655', 1361005L): 0.025641,\n",
       " ('NC_010655', 1369947L): 0.153846,\n",
       " ('NC_010655', 1370007L): 0.0512821,\n",
       " ('NC_010655', 1370008L): 0.025641,\n",
       " ('NC_010655', 1370009L): 0.025641,\n",
       " ('NC_010655', 1370018L): 0.025641,\n",
       " ('NC_010655', 1370024L): 0.025641,\n",
       " ('NC_010655', 1370029L): 0.025641000000000025,\n",
       " ('NC_010655', 1370097L): 0.027027000000000023,\n",
       " ('NC_010655', 1370312L): 0.135135,\n",
       " ('NC_010655', 1370381L): 0.0512821,\n",
       " ('NC_010655', 1370407L): 0.0769231,\n",
       " ('NC_010655', 1370409L): 0.102564,\n",
       " ('NC_010655', 1370782L): 0.038461999999999996,\n",
       " ('NC_010655', 1373258L): 0.17948699999999995,\n",
       " ('NC_010655', 1373309L): 0.20512799999999998,\n",
       " ('NC_010655', 1373464L): 0.0645161,\n",
       " ('NC_010655', 1373501L): 0.105263,\n",
       " ('NC_010655', 1373508L): 0.027027000000000023,\n",
       " ('NC_010655', 1504933L): 0.09090900000000002,\n",
       " ('NC_010655', 1534206L): 0.0344828,\n",
       " ('NC_010655', 1534691L): 0.210526,\n",
       " ('NC_010655', 1534732L): 0.342857,\n",
       " ('NC_010655', 1534744L): 0.32352899999999996,\n",
       " ('NC_010655', 1534745L): 0.36363599999999996,\n",
       " ('NC_010655', 1534784L): 0.333333,\n",
       " ('NC_010655', 1534785L): 0.333333,\n",
       " ('NC_010655', 1535334L): 0.04,\n",
       " ('NC_010655', 1535341L): 0.0714286,\n",
       " ('NC_010655', 1630638L): 0.0769231,\n",
       " ('NC_010655', 1631705L): 0.025641000000000025,\n",
       " ('NC_010655', 1631738L): 0.05128200000000005,\n",
       " ('NC_010655', 1631749L): 0.07692299999999996,\n",
       " ('NC_010655', 1631762L): 0.07692299999999996,\n",
       " ('NC_010655', 1631772L): 0.128205,\n",
       " ('NC_010655', 1631775L): 0.0769231,\n",
       " ('NC_010655', 1631897L): 0.025641,\n",
       " ('NC_010655', 1773284L): 0.0967742,\n",
       " ('NC_010655', 1773285L): 0.0277778,\n",
       " ('NC_010655', 1967895L): 0.25,\n",
       " ('NC_010655', 1967896L): 0.4,\n",
       " ('NC_010655', 1967903L): 0.25,\n",
       " ('NC_010655', 2313087L): 0.333333,\n",
       " ('NC_010655', 2575800L): 0.30769199999999997,\n",
       " ('NC_010655', 2575803L): 0.333333,\n",
       " ('NC_010655', 2575811L): 0.135135}"
      ]
     },
     "execution_count": 41,
     "metadata": {},
     "output_type": "execute_result"
    }
   ],
   "source": [
    "snv_freq_map"
   ]
  },
  {
   "cell_type": "code",
   "execution_count": 42,
   "metadata": {},
   "outputs": [],
   "source": [
    "import core_gene_utils\n",
    "gene_freq_map = core_gene_utils.parse_gene_freqs(species_name)\n",
    "gene_freq_values = numpy.array(gene_freq_map.values())\n",
    "gene_freq_weights = gene_freq_values*1.0/gene_freq_values.sum()"
   ]
  },
  {
   "cell_type": "code",
   "execution_count": 45,
   "metadata": {},
   "outputs": [
    {
     "name": "stderr",
     "output_type": "stream",
     "text": [
      "Loading pre-computed substitution rates for Akkermansia_muciniphila_55290...\n",
      "Calculating SNV matrix...\n"
     ]
    },
    {
     "ename": "NameError",
     "evalue": "name 'combined_samples' is not defined",
     "output_type": "error",
     "traceback": [
      "\u001b[0;31m\u001b[0m",
      "\u001b[0;31mNameError\u001b[0mTraceback (most recent call last)",
      "\u001b[0;32m<ipython-input-45-25ef481b9c0a>\u001b[0m in \u001b[0;36m<module>\u001b[0;34m()\u001b[0m\n\u001b[1;32m      2\u001b[0m \u001b[0msubstitution_rate_map\u001b[0m \u001b[0;34m=\u001b[0m \u001b[0mcalculate_substitution_rates\u001b[0m\u001b[0;34m.\u001b[0m\u001b[0mload_substitution_rate_map\u001b[0m\u001b[0;34m(\u001b[0m\u001b[0mspecies_name\u001b[0m\u001b[0;34m)\u001b[0m\u001b[0;34m\u001b[0m\u001b[0m\n\u001b[1;32m      3\u001b[0m \u001b[0msys\u001b[0m\u001b[0;34m.\u001b[0m\u001b[0mstderr\u001b[0m\u001b[0;34m.\u001b[0m\u001b[0mwrite\u001b[0m\u001b[0;34m(\u001b[0m\u001b[0;34m\"Calculating SNV matrix...\\n\"\u001b[0m\u001b[0;34m)\u001b[0m\u001b[0;34m\u001b[0m\u001b[0m\n\u001b[0;32m----> 4\u001b[0;31m \u001b[0mdummy_samples\u001b[0m\u001b[0;34m,\u001b[0m \u001b[0msnp_mut_difference_matrix\u001b[0m\u001b[0;34m,\u001b[0m \u001b[0msnp_rev_difference_matrix\u001b[0m\u001b[0;34m,\u001b[0m \u001b[0msnp_mut_opportunity_matrix\u001b[0m\u001b[0;34m,\u001b[0m \u001b[0msnp_rev_opportunity_matrix\u001b[0m \u001b[0;34m=\u001b[0m \u001b[0mcalculate_substitution_rates\u001b[0m\u001b[0;34m.\u001b[0m\u001b[0mcalculate_mutrev_matrices_from_substitution_rate_map\u001b[0m\u001b[0;34m(\u001b[0m\u001b[0msubstitution_rate_map\u001b[0m\u001b[0;34m,\u001b[0m \u001b[0;34m'all'\u001b[0m\u001b[0;34m,\u001b[0m \u001b[0mallowed_samples\u001b[0m\u001b[0;34m=\u001b[0m\u001b[0mcombined_samples\u001b[0m\u001b[0;34m)\u001b[0m\u001b[0;34m\u001b[0m\u001b[0m\n\u001b[0m",
      "\u001b[0;31mNameError\u001b[0m: name 'combined_samples' is not defined"
     ]
    }
   ],
   "source": [
    "sys.stderr.write(\"Loading pre-computed substitution rates for %s...\\n\" % species_name)\n",
    "substitution_rate_map = calculate_substitution_rates.load_substitution_rate_map(species_name)\n",
    "sys.stderr.write(\"Calculating SNV matrix...\\n\")\n",
    "dummy_samples, snp_mut_difference_matrix, snp_rev_difference_matrix, snp_mut_opportunity_matrix, snp_rev_opportunity_matrix = calculate_substitution_rates.calculate_mutrev_matrices_from_substitution_rate_map(substitution_rate_map, 'all', allowed_samples=combined_samples)\n",
    "\n",
    "\n",
    "\n"
   ]
  },
  {
   "cell_type": "code",
   "execution_count": null,
   "metadata": {},
   "outputs": [],
   "source": []
  },
  {
   "cell_type": "code",
   "execution_count": null,
   "metadata": {},
   "outputs": [],
   "source": []
  },
  {
   "cell_type": "code",
   "execution_count": null,
   "metadata": {},
   "outputs": [],
   "source": []
  }
 ],
 "metadata": {
  "kernelspec": {
   "display_name": "python27_env",
   "language": "python",
   "name": "python27_env"
  },
  "language_info": {
   "codemirror_mode": {
    "name": "ipython",
    "version": 2
   },
   "file_extension": ".py",
   "mimetype": "text/x-python",
   "name": "python",
   "nbconvert_exporter": "python",
   "pygments_lexer": "ipython2",
   "version": "2.7.18"
  }
 },
 "nbformat": 4,
 "nbformat_minor": 4
}
